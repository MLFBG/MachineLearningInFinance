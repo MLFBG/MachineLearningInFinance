{
  "nbformat": 4,
  "nbformat_minor": 0,
  "metadata": {
    "colab": {
      "name": "Programming_Session_7_Solution.ipynb",
      "provenance": [],
      "collapsed_sections": [
        "2eA3qWg0I1Zg"
      ]
    },
    "kernelspec": {
      "name": "python3",
      "display_name": "Python 3"
    }
  },
  "cells": [
    {
      "cell_type": "markdown",
      "metadata": {
        "id": "A84sSMXE3hbZ"
      },
      "source": [
        "\n",
        "# **<center>Machine Learning and Finance </center>**\n",
        "\n",
        "\n",
        "## <center> Programming Session 7 - LSTM Based Classification Model </center>\n",
        "\n",
        "<table class=\"tfo-notebook-buttons\" align=\"center\">\n",
        "  <td>\n",
        "    <a target=\"_blank\" href=\"https://mlfbg.github.io/MachineLearningInFinance/\">\n",
        "    <img src=\"https://drive.google.com/uc?export=view&id=1gmxxmwCR1WXK0IYtNqvE4QXFleznWqQO\" height=\"50\"/>\n",
        "    Course page</a>\n",
        "</td>\n",
        "  <td>\n",
        "    <a target=\"_blank\" href=\"https://colab.research.google.com/drive/1XSVM57SmUHoZdIlD2hFU3icLbRfNg-_S?usp=sharing\"><img src=\"https://www.tensorflow.org/images/colab_logo_32px.png\" height=\"50\" />Run in Google Colab</a>\n",
        "  </td>\n",
        "</table>\n"
      ]
    },
    {
      "cell_type": "markdown",
      "metadata": {
        "id": "48GJETGg1Aow"
      },
      "source": [
        "\n",
        "\n",
        "The Objective of this session is to create an LSTM based model for news classification. \n",
        "\n",
        "\n",
        "The dataset is the BBC news articles (Source: [here](http://mlg.ucd.ie/files/publications/greene06icml.pdf))\n",
        "\n",
        "\n",
        "Each Text is associated with one of the following categories: \n",
        "\n",
        "* tech\n",
        "* business\n",
        "* sport\n",
        "* entertainment\n",
        "* politics"
      ]
    },
    {
      "cell_type": "code",
      "metadata": {
        "id": "HS0eX7Kebja4",
        "colab": {
          "base_uri": "https://localhost:8080/"
        },
        "outputId": "faa19278-ed1c-41f5-e852-3950874734be"
      },
      "source": [
        "# Access files from Google Drive\n",
        "from google.colab import drive \n",
        "drive.mount('/content/gdrive')"
      ],
      "execution_count": 3,
      "outputs": [
        {
          "output_type": "stream",
          "name": "stdout",
          "text": [
            "Drive already mounted at /content/gdrive; to attempt to forcibly remount, call drive.mount(\"/content/gdrive\", force_remount=True).\n"
          ]
        }
      ]
    },
    {
      "cell_type": "code",
      "metadata": {
        "id": "kCcWOvm03Zxu"
      },
      "source": [
        "# Import basic libraries\n",
        "import matplotlib.pyplot as plt # for plotting \n",
        "import numpy as np # for manipulating arrays\n",
        "import tensorflow as tf # for creating Neural Networks, we will use it to load data\n",
        "import os \n",
        "import pandas as pd\n",
        "plt.style.use('dark_background') # to adapt the colors to a dark background\n",
        "from IPython.display import Image # for showing graphs from the lectures"
      ],
      "execution_count": 4,
      "outputs": []
    },
    {
      "cell_type": "code",
      "source": [
        "# Change the directory\n",
        "os.chdir(\"./gdrive/My Drive/Colab Notebooks/Session_2022/Programming_Session_7\")"
      ],
      "metadata": {
        "id": "Lvgt8CC4_-ST"
      },
      "execution_count": 6,
      "outputs": []
    },
    {
      "cell_type": "markdown",
      "metadata": {
        "id": "ZEg4IWrPY6QE"
      },
      "source": [
        "# 1. Preprocessing the Data"
      ]
    },
    {
      "cell_type": "markdown",
      "metadata": {
        "id": "-5QXO_b895mj"
      },
      "source": [
        "The objective of this session is to load the data and preprocess it into a `(N, T)` tensor:\n",
        "\n",
        "* `N` is the number of samples.\n",
        "* `T` is the length of the sequences. \n",
        "\n",
        "All the sequences should be of the same length. \n",
        "\n",
        "* First, we need to decide what should be the length `T` (another hyperparameter)\n",
        "* Then, for each sequence:\n",
        "  * If it's shorter than `T`, the sequence is padded with zeros.\n",
        "  * If it's longer than `T`, the sequence is truncated.  \n"
      ]
    },
    {
      "cell_type": "markdown",
      "source": [
        "<center><img width=“700\" src = \"https://drive.google.com/uc?export=view&id=1GLwOZWrMiprZpN8jijTkLO_GVpgmi9MM\"></center>"
      ],
      "metadata": {
        "id": "gpxrWwnA0Pam"
      }
    },
    {
      "cell_type": "markdown",
      "metadata": {
        "id": "2rsm8LyYB7UF"
      },
      "source": [
        "You can find the data in the following [link](https://www.kaggle.com/c/jigsaw-toxic-comment-classification-challenge/data). You can then store the file `train.csv` in a directory called `data`. \n",
        "\n",
        "The dataset can be found in the folder `data`. The csv file is named `bbc-text.csv`\n",
        "\n",
        "You will find the following columns:\n",
        "\n",
        "* `text` contains the news.\n",
        "\n",
        "* `category` is an element of the following categories: \n",
        "  * tech\n",
        "  * business\n",
        "  * sport\n",
        "  * entertainment\n",
        "  * politics\n",
        "\n",
        "\n"
      ]
    },
    {
      "cell_type": "markdown",
      "source": [
        "---\n",
        "<font color=green>Q1:</font>\n",
        "<br><font color='green'>\n",
        "Load the dataframe and call the dataframe `df` and store the elements in the column `text` in a list called `texts`\n",
        "</font>\n",
        "\n",
        "---"
      ],
      "metadata": {
        "id": "d3uVYHqpwNLt"
      }
    },
    {
      "cell_type": "code",
      "metadata": {
        "id": "qg0YioxaZnPJ"
      },
      "source": [
        "# path to data\n",
        "data_dir = os.path.join(os.getcwd(), \"data\")\n",
        "\n",
        "# Load the dataframe\n",
        "df = pd.read_csv(os.path.join(data_dir, \"bbc-text.csv\"))"
      ],
      "execution_count": 7,
      "outputs": []
    },
    {
      "cell_type": "code",
      "source": [
        "df.head(10)"
      ],
      "metadata": {
        "colab": {
          "base_uri": "https://localhost:8080/",
          "height": 363
        },
        "id": "vxnsK_D2yi2T",
        "outputId": "f32efbea-d3d0-4083-92bf-9571cee6ab99"
      },
      "execution_count": 8,
      "outputs": [
        {
          "output_type": "execute_result",
          "data": {
            "text/plain": [
              "        category                                               text\n",
              "0           tech  tv future in the hands of viewers with home th...\n",
              "1       business  worldcom boss  left books alone  former worldc...\n",
              "2          sport  tigers wary of farrell  gamble  leicester say ...\n",
              "3          sport  yeading face newcastle in fa cup premiership s...\n",
              "4  entertainment  ocean s twelve raids box office ocean s twelve...\n",
              "5       politics  howard hits back at mongrel jibe michael howar...\n",
              "6       politics  blair prepares to name poll date tony blair is...\n",
              "7          sport  henman hopes ended in dubai third seed tim hen...\n",
              "8          sport  wilkinson fit to face edinburgh england captai...\n",
              "9  entertainment  last star wars  not for children  the sixth an..."
            ],
            "text/html": [
              "\n",
              "  <div id=\"df-3f5bca27-b202-49ca-8fae-16237b9eded5\">\n",
              "    <div class=\"colab-df-container\">\n",
              "      <div>\n",
              "<style scoped>\n",
              "    .dataframe tbody tr th:only-of-type {\n",
              "        vertical-align: middle;\n",
              "    }\n",
              "\n",
              "    .dataframe tbody tr th {\n",
              "        vertical-align: top;\n",
              "    }\n",
              "\n",
              "    .dataframe thead th {\n",
              "        text-align: right;\n",
              "    }\n",
              "</style>\n",
              "<table border=\"1\" class=\"dataframe\">\n",
              "  <thead>\n",
              "    <tr style=\"text-align: right;\">\n",
              "      <th></th>\n",
              "      <th>category</th>\n",
              "      <th>text</th>\n",
              "    </tr>\n",
              "  </thead>\n",
              "  <tbody>\n",
              "    <tr>\n",
              "      <th>0</th>\n",
              "      <td>tech</td>\n",
              "      <td>tv future in the hands of viewers with home th...</td>\n",
              "    </tr>\n",
              "    <tr>\n",
              "      <th>1</th>\n",
              "      <td>business</td>\n",
              "      <td>worldcom boss  left books alone  former worldc...</td>\n",
              "    </tr>\n",
              "    <tr>\n",
              "      <th>2</th>\n",
              "      <td>sport</td>\n",
              "      <td>tigers wary of farrell  gamble  leicester say ...</td>\n",
              "    </tr>\n",
              "    <tr>\n",
              "      <th>3</th>\n",
              "      <td>sport</td>\n",
              "      <td>yeading face newcastle in fa cup premiership s...</td>\n",
              "    </tr>\n",
              "    <tr>\n",
              "      <th>4</th>\n",
              "      <td>entertainment</td>\n",
              "      <td>ocean s twelve raids box office ocean s twelve...</td>\n",
              "    </tr>\n",
              "    <tr>\n",
              "      <th>5</th>\n",
              "      <td>politics</td>\n",
              "      <td>howard hits back at mongrel jibe michael howar...</td>\n",
              "    </tr>\n",
              "    <tr>\n",
              "      <th>6</th>\n",
              "      <td>politics</td>\n",
              "      <td>blair prepares to name poll date tony blair is...</td>\n",
              "    </tr>\n",
              "    <tr>\n",
              "      <th>7</th>\n",
              "      <td>sport</td>\n",
              "      <td>henman hopes ended in dubai third seed tim hen...</td>\n",
              "    </tr>\n",
              "    <tr>\n",
              "      <th>8</th>\n",
              "      <td>sport</td>\n",
              "      <td>wilkinson fit to face edinburgh england captai...</td>\n",
              "    </tr>\n",
              "    <tr>\n",
              "      <th>9</th>\n",
              "      <td>entertainment</td>\n",
              "      <td>last star wars  not for children  the sixth an...</td>\n",
              "    </tr>\n",
              "  </tbody>\n",
              "</table>\n",
              "</div>\n",
              "      <button class=\"colab-df-convert\" onclick=\"convertToInteractive('df-3f5bca27-b202-49ca-8fae-16237b9eded5')\"\n",
              "              title=\"Convert this dataframe to an interactive table.\"\n",
              "              style=\"display:none;\">\n",
              "        \n",
              "  <svg xmlns=\"http://www.w3.org/2000/svg\" height=\"24px\"viewBox=\"0 0 24 24\"\n",
              "       width=\"24px\">\n",
              "    <path d=\"M0 0h24v24H0V0z\" fill=\"none\"/>\n",
              "    <path d=\"M18.56 5.44l.94 2.06.94-2.06 2.06-.94-2.06-.94-.94-2.06-.94 2.06-2.06.94zm-11 1L8.5 8.5l.94-2.06 2.06-.94-2.06-.94L8.5 2.5l-.94 2.06-2.06.94zm10 10l.94 2.06.94-2.06 2.06-.94-2.06-.94-.94-2.06-.94 2.06-2.06.94z\"/><path d=\"M17.41 7.96l-1.37-1.37c-.4-.4-.92-.59-1.43-.59-.52 0-1.04.2-1.43.59L10.3 9.45l-7.72 7.72c-.78.78-.78 2.05 0 2.83L4 21.41c.39.39.9.59 1.41.59.51 0 1.02-.2 1.41-.59l7.78-7.78 2.81-2.81c.8-.78.8-2.07 0-2.86zM5.41 20L4 18.59l7.72-7.72 1.47 1.35L5.41 20z\"/>\n",
              "  </svg>\n",
              "      </button>\n",
              "      \n",
              "  <style>\n",
              "    .colab-df-container {\n",
              "      display:flex;\n",
              "      flex-wrap:wrap;\n",
              "      gap: 12px;\n",
              "    }\n",
              "\n",
              "    .colab-df-convert {\n",
              "      background-color: #E8F0FE;\n",
              "      border: none;\n",
              "      border-radius: 50%;\n",
              "      cursor: pointer;\n",
              "      display: none;\n",
              "      fill: #1967D2;\n",
              "      height: 32px;\n",
              "      padding: 0 0 0 0;\n",
              "      width: 32px;\n",
              "    }\n",
              "\n",
              "    .colab-df-convert:hover {\n",
              "      background-color: #E2EBFA;\n",
              "      box-shadow: 0px 1px 2px rgba(60, 64, 67, 0.3), 0px 1px 3px 1px rgba(60, 64, 67, 0.15);\n",
              "      fill: #174EA6;\n",
              "    }\n",
              "\n",
              "    [theme=dark] .colab-df-convert {\n",
              "      background-color: #3B4455;\n",
              "      fill: #D2E3FC;\n",
              "    }\n",
              "\n",
              "    [theme=dark] .colab-df-convert:hover {\n",
              "      background-color: #434B5C;\n",
              "      box-shadow: 0px 1px 3px 1px rgba(0, 0, 0, 0.15);\n",
              "      filter: drop-shadow(0px 1px 2px rgba(0, 0, 0, 0.3));\n",
              "      fill: #FFFFFF;\n",
              "    }\n",
              "  </style>\n",
              "\n",
              "      <script>\n",
              "        const buttonEl =\n",
              "          document.querySelector('#df-3f5bca27-b202-49ca-8fae-16237b9eded5 button.colab-df-convert');\n",
              "        buttonEl.style.display =\n",
              "          google.colab.kernel.accessAllowed ? 'block' : 'none';\n",
              "\n",
              "        async function convertToInteractive(key) {\n",
              "          const element = document.querySelector('#df-3f5bca27-b202-49ca-8fae-16237b9eded5');\n",
              "          const dataTable =\n",
              "            await google.colab.kernel.invokeFunction('convertToInteractive',\n",
              "                                                     [key], {});\n",
              "          if (!dataTable) return;\n",
              "\n",
              "          const docLinkHtml = 'Like what you see? Visit the ' +\n",
              "            '<a target=\"_blank\" href=https://colab.research.google.com/notebooks/data_table.ipynb>data table notebook</a>'\n",
              "            + ' to learn more about interactive tables.';\n",
              "          element.innerHTML = '';\n",
              "          dataTable['output_type'] = 'display_data';\n",
              "          await google.colab.output.renderOutput(dataTable, element);\n",
              "          const docLink = document.createElement('div');\n",
              "          docLink.innerHTML = docLinkHtml;\n",
              "          element.appendChild(docLink);\n",
              "        }\n",
              "      </script>\n",
              "    </div>\n",
              "  </div>\n",
              "  "
            ]
          },
          "metadata": {},
          "execution_count": 8
        }
      ]
    },
    {
      "cell_type": "markdown",
      "source": [
        "The following function is used for cleaning the texts:"
      ],
      "metadata": {
        "id": "iC76bjFlkLWo"
      }
    },
    {
      "cell_type": "code",
      "source": [
        "import nltk\n",
        "nltk.download(\"stopwords\")\n",
        "from nltk.corpus import stopwords "
      ],
      "metadata": {
        "colab": {
          "base_uri": "https://localhost:8080/"
        },
        "id": "gmX-QVaPkQsv",
        "outputId": "7e3fcc39-5e74-4c01-85da-c9a8a345f932"
      },
      "execution_count": 9,
      "outputs": [
        {
          "output_type": "stream",
          "name": "stdout",
          "text": [
            "[nltk_data] Downloading package stopwords to /root/nltk_data...\n",
            "[nltk_data]   Unzipping corpora/stopwords.zip.\n"
          ]
        }
      ]
    },
    {
      "cell_type": "code",
      "source": [
        "def clean(texts):\n",
        "  clean_texts = []\n",
        "  for sequence in texts:\n",
        "    # Get the tokens\n",
        "    words = sequence.split()\n",
        "    # Keep only the words   \n",
        "    alphabetic_only = [word for word in words if word.isalpha()]\n",
        "    # All tokens should be written in lowercase\n",
        "    lower_case_only = [word.lower() for word in alphabetic_only]\n",
        "    # Select the stop words from nltk\n",
        "    stopwords_nltk = set(stopwords.words('english'))\n",
        "    # Delete the stop words\n",
        "    cleaned_words = [word for word in lower_case_only if word not in stopwords_nltk]\n",
        "    # Transform the list of tokens into a long string\n",
        "    clean_sequence = ' '.join(cleaned_words)\n",
        "    # Save the result in the list clean_texts\n",
        "    clean_texts.append(clean_sequence)\n",
        "  return clean_texts"
      ],
      "metadata": {
        "id": "NAFqtR2GkU0j"
      },
      "execution_count": 19,
      "outputs": []
    },
    {
      "cell_type": "markdown",
      "source": [
        "---\n",
        "<font color=green>Q2:</font>\n",
        "<br><font color='green'>\n",
        "Replace the column `text` with processed texts using the `clean()` function. The new column should be named `text`. \n",
        "</font>\n",
        "\n",
        "---"
      ],
      "metadata": {
        "id": "2tX1sA-PwPn_"
      }
    },
    {
      "cell_type": "code",
      "metadata": {
        "id": "DX0UInGud09L"
      },
      "source": [
        "# Replace the column text with the processed version of it \n",
        "df[\"text\"] = clean(df.text.values)"
      ],
      "execution_count": 22,
      "outputs": []
    },
    {
      "cell_type": "markdown",
      "source": [
        "---\n",
        "<font color=green>Q3:</font>\n",
        "<br><font color='green'>\n",
        "Replace the categories in the column `category` of the dataframe `df` with the corresponding indices in the following table:\n",
        "</font>\n",
        "\n",
        "---"
      ],
      "metadata": {
        "id": "KvzCHvv4wQi4"
      }
    },
    {
      "cell_type": "markdown",
      "source": [
        "\n",
        " \n",
        "\n",
        "| **category**  | **index** |\n",
        "|---------------|-----------|\n",
        "| tech          | 0         |\n",
        "| business      | 1         |\n",
        "| sport         | 2         |\n",
        "| entertainment | 3         |\n",
        "| politics      | 4         |\n",
        "\n",
        "\n"
      ],
      "metadata": {
        "id": "brAM29LAlx3u"
      }
    },
    {
      "cell_type": "code",
      "metadata": {
        "id": "CHVt1mT1d1FM"
      },
      "source": [
        "# List of labels\n",
        "list_labels = list(df.category.unique())"
      ],
      "execution_count": 24,
      "outputs": []
    },
    {
      "cell_type": "code",
      "source": [
        "list_labels"
      ],
      "metadata": {
        "colab": {
          "base_uri": "https://localhost:8080/"
        },
        "id": "8bk4ybnP0D1s",
        "outputId": "8a3acd7e-b298-4fa5-98f1-70bf076a37f1"
      },
      "execution_count": 25,
      "outputs": [
        {
          "output_type": "execute_result",
          "data": {
            "text/plain": [
              "['tech', 'business', 'sport', 'entertainment', 'politics']"
            ]
          },
          "metadata": {},
          "execution_count": 25
        }
      ]
    },
    {
      "cell_type": "code",
      "source": [
        "# Replace the categories with the indices\n",
        "# df.category.replace({\"tech\": 0, \n",
        "#                      \"business\" : 1, \n",
        "#                      \"sport\" : 2,\n",
        "#                      \"entertainment\": 3,\n",
        "#                      \"politics\": 4}, inplace=True)\n",
        "df.category.replace(list_labels, np.arange(len(list_labels)), inplace=True)"
      ],
      "metadata": {
        "id": "Wt6L2I4amjdj"
      },
      "execution_count": 26,
      "outputs": []
    },
    {
      "cell_type": "markdown",
      "source": [
        "---\n",
        "<font color=green>Q4:</font>\n",
        "<br><font color='green'>\n",
        "Define a list, called `labels` containing the targets associated with each text in the column `text`.\n",
        "</font>\n",
        "\n",
        "---"
      ],
      "metadata": {
        "id": "GqBwq8pLwRIw"
      }
    },
    {
      "cell_type": "code",
      "source": [
        "df.head(10)"
      ],
      "metadata": {
        "colab": {
          "base_uri": "https://localhost:8080/",
          "height": 363
        },
        "id": "LhwfH0mHxF3L",
        "outputId": "44d2f7d4-f626-4eb1-f4e4-1dda36176871"
      },
      "execution_count": 27,
      "outputs": [
        {
          "output_type": "execute_result",
          "data": {
            "text/plain": [
              "   category                                               text\n",
              "0         0  tv future hands viewers home theatre systems p...\n",
              "1         1  worldcom boss left books alone former worldcom...\n",
              "2         2  tigers wary farrell gamble leicester say rushe...\n",
              "3         2  yeading face newcastle fa cup premiership side...\n",
              "4         3  ocean twelve raids box office ocean twelve cri...\n",
              "5         4  howard hits back mongrel jibe michael howard s...\n",
              "6         4  blair prepares name poll date tony blair likel...\n",
              "7         2  henman hopes ended dubai third seed tim henman...\n",
              "8         2  wilkinson fit face edinburgh england captain j...\n",
              "9         3  last star wars children sixth final star wars ..."
            ],
            "text/html": [
              "\n",
              "  <div id=\"df-4b18fe3d-c100-4f46-a914-618931188761\">\n",
              "    <div class=\"colab-df-container\">\n",
              "      <div>\n",
              "<style scoped>\n",
              "    .dataframe tbody tr th:only-of-type {\n",
              "        vertical-align: middle;\n",
              "    }\n",
              "\n",
              "    .dataframe tbody tr th {\n",
              "        vertical-align: top;\n",
              "    }\n",
              "\n",
              "    .dataframe thead th {\n",
              "        text-align: right;\n",
              "    }\n",
              "</style>\n",
              "<table border=\"1\" class=\"dataframe\">\n",
              "  <thead>\n",
              "    <tr style=\"text-align: right;\">\n",
              "      <th></th>\n",
              "      <th>category</th>\n",
              "      <th>text</th>\n",
              "    </tr>\n",
              "  </thead>\n",
              "  <tbody>\n",
              "    <tr>\n",
              "      <th>0</th>\n",
              "      <td>0</td>\n",
              "      <td>tv future hands viewers home theatre systems p...</td>\n",
              "    </tr>\n",
              "    <tr>\n",
              "      <th>1</th>\n",
              "      <td>1</td>\n",
              "      <td>worldcom boss left books alone former worldcom...</td>\n",
              "    </tr>\n",
              "    <tr>\n",
              "      <th>2</th>\n",
              "      <td>2</td>\n",
              "      <td>tigers wary farrell gamble leicester say rushe...</td>\n",
              "    </tr>\n",
              "    <tr>\n",
              "      <th>3</th>\n",
              "      <td>2</td>\n",
              "      <td>yeading face newcastle fa cup premiership side...</td>\n",
              "    </tr>\n",
              "    <tr>\n",
              "      <th>4</th>\n",
              "      <td>3</td>\n",
              "      <td>ocean twelve raids box office ocean twelve cri...</td>\n",
              "    </tr>\n",
              "    <tr>\n",
              "      <th>5</th>\n",
              "      <td>4</td>\n",
              "      <td>howard hits back mongrel jibe michael howard s...</td>\n",
              "    </tr>\n",
              "    <tr>\n",
              "      <th>6</th>\n",
              "      <td>4</td>\n",
              "      <td>blair prepares name poll date tony blair likel...</td>\n",
              "    </tr>\n",
              "    <tr>\n",
              "      <th>7</th>\n",
              "      <td>2</td>\n",
              "      <td>henman hopes ended dubai third seed tim henman...</td>\n",
              "    </tr>\n",
              "    <tr>\n",
              "      <th>8</th>\n",
              "      <td>2</td>\n",
              "      <td>wilkinson fit face edinburgh england captain j...</td>\n",
              "    </tr>\n",
              "    <tr>\n",
              "      <th>9</th>\n",
              "      <td>3</td>\n",
              "      <td>last star wars children sixth final star wars ...</td>\n",
              "    </tr>\n",
              "  </tbody>\n",
              "</table>\n",
              "</div>\n",
              "      <button class=\"colab-df-convert\" onclick=\"convertToInteractive('df-4b18fe3d-c100-4f46-a914-618931188761')\"\n",
              "              title=\"Convert this dataframe to an interactive table.\"\n",
              "              style=\"display:none;\">\n",
              "        \n",
              "  <svg xmlns=\"http://www.w3.org/2000/svg\" height=\"24px\"viewBox=\"0 0 24 24\"\n",
              "       width=\"24px\">\n",
              "    <path d=\"M0 0h24v24H0V0z\" fill=\"none\"/>\n",
              "    <path d=\"M18.56 5.44l.94 2.06.94-2.06 2.06-.94-2.06-.94-.94-2.06-.94 2.06-2.06.94zm-11 1L8.5 8.5l.94-2.06 2.06-.94-2.06-.94L8.5 2.5l-.94 2.06-2.06.94zm10 10l.94 2.06.94-2.06 2.06-.94-2.06-.94-.94-2.06-.94 2.06-2.06.94z\"/><path d=\"M17.41 7.96l-1.37-1.37c-.4-.4-.92-.59-1.43-.59-.52 0-1.04.2-1.43.59L10.3 9.45l-7.72 7.72c-.78.78-.78 2.05 0 2.83L4 21.41c.39.39.9.59 1.41.59.51 0 1.02-.2 1.41-.59l7.78-7.78 2.81-2.81c.8-.78.8-2.07 0-2.86zM5.41 20L4 18.59l7.72-7.72 1.47 1.35L5.41 20z\"/>\n",
              "  </svg>\n",
              "      </button>\n",
              "      \n",
              "  <style>\n",
              "    .colab-df-container {\n",
              "      display:flex;\n",
              "      flex-wrap:wrap;\n",
              "      gap: 12px;\n",
              "    }\n",
              "\n",
              "    .colab-df-convert {\n",
              "      background-color: #E8F0FE;\n",
              "      border: none;\n",
              "      border-radius: 50%;\n",
              "      cursor: pointer;\n",
              "      display: none;\n",
              "      fill: #1967D2;\n",
              "      height: 32px;\n",
              "      padding: 0 0 0 0;\n",
              "      width: 32px;\n",
              "    }\n",
              "\n",
              "    .colab-df-convert:hover {\n",
              "      background-color: #E2EBFA;\n",
              "      box-shadow: 0px 1px 2px rgba(60, 64, 67, 0.3), 0px 1px 3px 1px rgba(60, 64, 67, 0.15);\n",
              "      fill: #174EA6;\n",
              "    }\n",
              "\n",
              "    [theme=dark] .colab-df-convert {\n",
              "      background-color: #3B4455;\n",
              "      fill: #D2E3FC;\n",
              "    }\n",
              "\n",
              "    [theme=dark] .colab-df-convert:hover {\n",
              "      background-color: #434B5C;\n",
              "      box-shadow: 0px 1px 3px 1px rgba(0, 0, 0, 0.15);\n",
              "      filter: drop-shadow(0px 1px 2px rgba(0, 0, 0, 0.3));\n",
              "      fill: #FFFFFF;\n",
              "    }\n",
              "  </style>\n",
              "\n",
              "      <script>\n",
              "        const buttonEl =\n",
              "          document.querySelector('#df-4b18fe3d-c100-4f46-a914-618931188761 button.colab-df-convert');\n",
              "        buttonEl.style.display =\n",
              "          google.colab.kernel.accessAllowed ? 'block' : 'none';\n",
              "\n",
              "        async function convertToInteractive(key) {\n",
              "          const element = document.querySelector('#df-4b18fe3d-c100-4f46-a914-618931188761');\n",
              "          const dataTable =\n",
              "            await google.colab.kernel.invokeFunction('convertToInteractive',\n",
              "                                                     [key], {});\n",
              "          if (!dataTable) return;\n",
              "\n",
              "          const docLinkHtml = 'Like what you see? Visit the ' +\n",
              "            '<a target=\"_blank\" href=https://colab.research.google.com/notebooks/data_table.ipynb>data table notebook</a>'\n",
              "            + ' to learn more about interactive tables.';\n",
              "          element.innerHTML = '';\n",
              "          dataTable['output_type'] = 'display_data';\n",
              "          await google.colab.output.renderOutput(dataTable, element);\n",
              "          const docLink = document.createElement('div');\n",
              "          docLink.innerHTML = docLinkHtml;\n",
              "          element.appendChild(docLink);\n",
              "        }\n",
              "      </script>\n",
              "    </div>\n",
              "  </div>\n",
              "  "
            ]
          },
          "metadata": {},
          "execution_count": 27
        }
      ]
    },
    {
      "cell_type": "code",
      "source": [
        "# List of possible labels\n",
        "labels = df[\"category\"].values"
      ],
      "metadata": {
        "id": "T_gLbT-xsBDG"
      },
      "execution_count": 28,
      "outputs": []
    },
    {
      "cell_type": "markdown",
      "source": [
        "---\n",
        "<font color=green>Q5:</font>\n",
        "<br><font color='green'>\n",
        "Preprocess the texts in the column `text` and transform them into sequences of integers:\n",
        "\n",
        "* Use `Tokenizer` from `tensorflow.keras.preprocessing.text` to create your tokenizer\n",
        "* Create your word_index dictionary\n",
        "* Transform your texts into sequences of integers via your word_index dictionary. \n",
        "</font>\n",
        "\n",
        "---"
      ],
      "metadata": {
        "id": "xnXoC-CIwSYL"
      }
    },
    {
      "cell_type": "code",
      "source": [
        "# Import Modules\n",
        "from tensorflow.keras.preprocessing.text import Tokenizer"
      ],
      "metadata": {
        "id": "MGurWneC1E6n"
      },
      "execution_count": 32,
      "outputs": []
    },
    {
      "cell_type": "code",
      "metadata": {
        "id": "RFhFjOw0d1jb",
        "colab": {
          "base_uri": "https://localhost:8080/"
        },
        "outputId": "1a358dc4-5018-4350-b3b1-17d055062008"
      },
      "source": [
        "# Set Hyperparameters: Vocabulary size\n",
        "V = 10000\n",
        "\n",
        "# Import Modules\n",
        "from tensorflow.keras.preprocessing.text import Tokenizer\n",
        "\n",
        "# Select the texts from the column \"text\"\n",
        "texts = df[\"text\"].values\n",
        "\n",
        "# Create the Tokenizer\n",
        "tokenizer = Tokenizer(num_words=V) # Filter some elements + oov_token (TO DO)\n",
        "\n",
        "# Fit the tokenizer on the texts to create the word_index dictionary\n",
        "tokenizer.fit_on_texts(texts)\n",
        "word_index = tokenizer.word_index\n",
        "print('Found %s unique tokens.' % len(word_index))\n",
        "\n",
        "\n",
        "# From texts to sequences of integers \n",
        "sequences = tokenizer.texts_to_sequences(texts)"
      ],
      "execution_count": null,
      "outputs": [
        {
          "output_type": "stream",
          "name": "stdout",
          "text": [
            "Found 26149 unique tokens.\n"
          ]
        }
      ]
    },
    {
      "cell_type": "markdown",
      "source": [
        "---\n",
        "<font color=green>Q6:</font>\n",
        "<br><font color='green'>\n",
        "Using `pad_sequences` from `tensorflow.keras.preprocessing.sequence`, transform the list of sequences into an $(N, T)$ tensor called `data`. (Set `T = 300`) \n",
        "</font>\n",
        "\n",
        "---"
      ],
      "metadata": {
        "id": "29Z5JwuLwTWp"
      }
    },
    {
      "cell_type": "code",
      "metadata": {
        "id": "mbMVimDId1mH"
      },
      "source": [
        "# Set hyperparameters\n",
        "T = 300\n",
        "\n",
        "# Import Module\n",
        "from tensorflow.keras.preprocessing.sequence import pad_sequences\n",
        "\n",
        "# Pad sequences\n",
        "data = pad_sequences(sequences, maxlen= T)"
      ],
      "execution_count": null,
      "outputs": []
    },
    {
      "cell_type": "markdown",
      "source": [
        "---\n",
        "<font color=green>Q7:</font>\n",
        "<br><font color='green'>\n",
        "Shuffle the rows of the $(N, T)$ tensor `data`. Then, Split the data into training data (80% of data) and test data. Finally, use the one hot encoding process to transform the targets into $(N_1, K)$ and $(N_2, K)$ tensors (where $N_1$ is the size of the training data, $N_2$ the size of the test data and $K$ the number of possible categories.  \n",
        "</font>\n",
        "\n",
        "---"
      ],
      "metadata": {
        "id": "NpPFZu9_wUPQ"
      }
    },
    {
      "cell_type": "code",
      "metadata": {
        "id": "MJntu77bd1x7",
        "colab": {
          "base_uri": "https://localhost:8080/"
        },
        "outputId": "9668584b-de54-4b71-a742-72cfce30490f"
      },
      "source": [
        "# Shuffle indices\n",
        "indices = np.arange(len(data))\n",
        "np.random.shuffle(indices)\n",
        "\n",
        "# New data\n",
        "data = data[indices]\n",
        "\n",
        "# New labels\n",
        "labels = labels[indices]\n",
        "print('Shape of data tensor:', data.shape)"
      ],
      "execution_count": null,
      "outputs": [
        {
          "output_type": "stream",
          "name": "stdout",
          "text": [
            "Shape of data tensor: (2225, 300)\n"
          ]
        }
      ]
    },
    {
      "cell_type": "code",
      "metadata": {
        "id": "zvJJiLORd16O"
      },
      "source": [
        "# Split \n",
        "split = int(.8 * len(texts))\n",
        "train_data = data[:split]\n",
        "train_labels = labels[:split]\n",
        "\n",
        "test_data = data[split:]\n",
        "test_labels = labels[split:]"
      ],
      "execution_count": null,
      "outputs": []
    },
    {
      "cell_type": "code",
      "source": [
        "# One hot encoding applied to the targets\n",
        "from tensorflow.keras.utils import to_categorical\n",
        "\n",
        "\n",
        "train_labels = to_categorical(train_labels, num_classes=5)\n",
        "test_labels = to_categorical(test_labels, num_classes=5)"
      ],
      "metadata": {
        "id": "xW586vCxsUl2"
      },
      "execution_count": null,
      "outputs": []
    },
    {
      "cell_type": "markdown",
      "metadata": {
        "id": "2eA3qWg0I1Zg"
      },
      "source": [
        "# 2. Creating the Embedding Matrix"
      ]
    },
    {
      "cell_type": "markdown",
      "metadata": {
        "id": "ZWCqXdikD4IZ"
      },
      "source": [
        "## 2.1 Creating the Embedding index dictionary"
      ]
    },
    {
      "cell_type": "markdown",
      "metadata": {
        "id": "X-Bt1nNrRFGa"
      },
      "source": [
        "The objective of this section is to load a pretrained embedding matrix\n",
        "\n",
        "We introduced the **Word2vec** algorithm in the coursework. \n",
        "\n",
        "Let us use the **Glove** pre-trained vectors for this session. \n",
        "\n",
        "Its developers have made available precomputed embeddings for millions of English tokens, trained on different corpora like the Wikipedia corpus. \n",
        "\n",
        "For more informations, see the link [here](https://nlp.stanford.edu/projects/glove)\n",
        "\n",
        "Q5. \n",
        "\n"
      ]
    },
    {
      "cell_type": "markdown",
      "source": [
        "---\n",
        "<font color=green>Q8:</font>\n",
        "<br><font color='green'>\n",
        "Run the following code to download the precomputed embeddings from 2014 English Wikipedia. It’s an 822 MB zip file called glove.6B.zip, containing different D-dimensional embedding vectors for 400,000 words (or nonword tokens). Unzip it and store in the folder named `glove.6B`.\n",
        "</font>\n",
        "\n",
        "---"
      ],
      "metadata": {
        "id": "gopxLY8AwXUY"
      }
    },
    {
      "cell_type": "code",
      "source": [
        "# Download the zip file\n",
        "!wget http://nlp.stanford.edu/data/glove.6B.zip"
      ],
      "metadata": {
        "colab": {
          "base_uri": "https://localhost:8080/"
        },
        "id": "_7xk2hsPtfxP",
        "outputId": "5f016db7-8c73-4eee-b228-fbaf07c7f342"
      },
      "execution_count": null,
      "outputs": [
        {
          "output_type": "stream",
          "name": "stdout",
          "text": [
            "--2022-05-31 01:24:35--  http://nlp.stanford.edu/data/glove.6B.zip\n",
            "Resolving nlp.stanford.edu (nlp.stanford.edu)... 171.64.67.140\n",
            "Connecting to nlp.stanford.edu (nlp.stanford.edu)|171.64.67.140|:80... connected.\n",
            "HTTP request sent, awaiting response... 302 Found\n",
            "Location: https://nlp.stanford.edu/data/glove.6B.zip [following]\n",
            "--2022-05-31 01:24:36--  https://nlp.stanford.edu/data/glove.6B.zip\n",
            "Connecting to nlp.stanford.edu (nlp.stanford.edu)|171.64.67.140|:443... connected.\n",
            "HTTP request sent, awaiting response... 301 Moved Permanently\n",
            "Location: http://downloads.cs.stanford.edu/nlp/data/glove.6B.zip [following]\n",
            "--2022-05-31 01:24:36--  http://downloads.cs.stanford.edu/nlp/data/glove.6B.zip\n",
            "Resolving downloads.cs.stanford.edu (downloads.cs.stanford.edu)... 171.64.64.22\n",
            "Connecting to downloads.cs.stanford.edu (downloads.cs.stanford.edu)|171.64.64.22|:80... connected.\n",
            "HTTP request sent, awaiting response... 200 OK\n",
            "Length: 862182613 (822M) [application/zip]\n",
            "Saving to: ‘glove.6B.zip.1’\n",
            "\n",
            "glove.6B.zip.1      100%[===================>] 822.24M  5.11MB/s    in 2m 42s  \n",
            "\n",
            "2022-05-31 01:27:18 (5.09 MB/s) - ‘glove.6B.zip.1’ saved [862182613/862182613]\n",
            "\n"
          ]
        }
      ]
    },
    {
      "cell_type": "code",
      "source": [
        "# Unzip it and put the files in the destination folder `glove.6B`\n",
        "!unzip glove*.zip -d glove.6B "
      ],
      "metadata": {
        "id": "OTYDAMed3mO8"
      },
      "execution_count": null,
      "outputs": []
    },
    {
      "cell_type": "markdown",
      "source": [
        "---\n",
        "<font color=green>Q9:</font>\n",
        "<br><font color='green'>\n",
        "Create a dictionary called `embedding_index` that maps each word to a vector of size 200 as shown in the following figure:\n",
        "</font>\n",
        "\n",
        "---"
      ],
      "metadata": {
        "id": "IrFsjBQkwYMt"
      }
    },
    {
      "cell_type": "markdown",
      "source": [
        "<center><img width=“1000\" src = \"https://drive.google.com/uc?export=view&id=1fUAxpg7IU-bYQgntkV6YghOCqTVGwSt1\"></center>"
      ],
      "metadata": {
        "id": "PbXFogNR0SL4"
      }
    },
    {
      "cell_type": "code",
      "metadata": {
        "id": "g_En0SubCRdQ"
      },
      "source": [
        "# Directory of the Embedding file\n",
        "dir_glove = os.path.join(os.getcwd(),'glove.6B')\n",
        "\n",
        "# Create the dictionary\n",
        "embedding_index = {}\n",
        "\n",
        "f = open(os.path.join(dir_glove, \"glove.6B.200d.txt\"), encoding = \"utf8\")\n",
        "for line in f:\n",
        "    # Split each line\n",
        "    values = line.split()\n",
        "    # Get the word\n",
        "    word = values[0]\n",
        "    # Get the embedding vector \n",
        "    embedding_vector = np.asarray(values[1:], dtype = \"float32\")\n",
        "    # Append the dictionary\n",
        "    embedding_index[word] = embedding_vector\n",
        "f.close()"
      ],
      "execution_count": null,
      "outputs": []
    },
    {
      "cell_type": "code",
      "metadata": {
        "id": "lN5PdXn_Q3Nf",
        "colab": {
          "base_uri": "https://localhost:8080/"
        },
        "outputId": "939eb143-6736-4283-f33c-4dc14f2276d1"
      },
      "source": [
        "len(embedding_index)"
      ],
      "execution_count": null,
      "outputs": [
        {
          "output_type": "execute_result",
          "data": {
            "text/plain": [
              "400000"
            ]
          },
          "metadata": {},
          "execution_count": 19
        }
      ]
    },
    {
      "cell_type": "markdown",
      "metadata": {
        "id": "_q38bn4fEfX0"
      },
      "source": [
        "## 2.2. Creating the Embedding matrix"
      ]
    },
    {
      "cell_type": "markdown",
      "source": [
        "---\n",
        "<font color=green>Q10:</font>\n",
        "<br><font color='green'>\n",
        "Create a matrix called `embedding_matrix` of shape `(V, D)` where `D` is the embedding dimension and `V` the vocabulary size. \n",
        "* In this matrix, the row number k will be represented by the embedding vector associated with the word of index k in the `embedding_index` dictionary. \n",
        "* If the word of index k is not in the `embedding_index` dictionary, we represent it by a vector of zeros in the embedding matrix. \n",
        "</font>\n",
        "\n",
        "---"
      ],
      "metadata": {
        "id": "obJui7BCwako"
      }
    },
    {
      "cell_type": "markdown",
      "source": [
        "<center><img width=“300\" src = \"https://drive.google.com/uc?export=view&id=1KM1n5qSajHkf4ItxycCddcjq2MhkSS8e\"></center>"
      ],
      "metadata": {
        "id": "DSdkBi6F0TqZ"
      }
    },
    {
      "cell_type": "code",
      "source": [
        "# The embedding dimension\n",
        "D = 200\n",
        "\n",
        "# Initilize the embedding matrix with zeros\n",
        "embedding_matrix = np.zeros((V, D))\n",
        "\n",
        "# Loop through all the elements of the word_index dictionary \n",
        "for word, i in word_index.items():\n",
        "    if i < V:\n",
        "        # Get the embedding vector or None \n",
        "        embedding_vector = embedding_index.get(word) \n",
        "        # Update one row of the embedding matrix\n",
        "        if embedding_vector is not None:\n",
        "            embedding_matrix[i] = embedding_vector"
      ],
      "metadata": {
        "id": "CR3q_qyX5PY_"
      },
      "execution_count": null,
      "outputs": []
    },
    {
      "cell_type": "markdown",
      "metadata": {
        "id": "9hwsH3FrK6pF"
      },
      "source": [
        "# 3. Creating the Model"
      ]
    },
    {
      "cell_type": "markdown",
      "metadata": {
        "id": "t8D40WPBK_TH"
      },
      "source": [
        "## 3.1 Using pre-trained word vectors (embedding_matrix) from GloVe"
      ]
    },
    {
      "cell_type": "markdown",
      "source": [
        "---\n",
        "<font color=green>Q11:</font>\n",
        "<br><font color='green'>\n",
        "Using `Embedding` from `tensorflow.keras.layers`, create the embedding layer called `embedding_layer`\n",
        "\n",
        "* This layer transforms an `(N, T)` tensor of integers into an `(N, T, D)` tensor.\n",
        "* Load the `embedding_matrix` into the `embedding_layer`\n",
        "</font>\n",
        "\n",
        "---"
      ],
      "metadata": {
        "id": "zS7Z2hcVwbP4"
      }
    },
    {
      "cell_type": "markdown",
      "source": [
        "<center><img width=“700\" src = \"https://drive.google.com/uc?export=view&id=1EdfK87ayAWSEXfr-A60JbXxBuXqd-QL0\"></center>"
      ],
      "metadata": {
        "id": "KnxHOmFA0VOs"
      }
    },
    {
      "cell_type": "code",
      "metadata": {
        "id": "8n7ZGAvIMAXP"
      },
      "source": [
        "from tensorflow.keras.layers import Embedding\n",
        "\n",
        "embedding_layer = Embedding(\n",
        "  V,\n",
        "  D,\n",
        "  weights=[embedding_matrix],\n",
        "  input_length=T,\n",
        "  trainable=False\n",
        ")"
      ],
      "execution_count": null,
      "outputs": []
    },
    {
      "cell_type": "markdown",
      "source": [
        "---\n",
        "<font color=green>Q12:</font>\n",
        "<br><font color='green'>\n",
        "Create the following model:\n",
        "</font>\n",
        "\n",
        "---"
      ],
      "metadata": {
        "id": "w1VIMWNQwb_i"
      }
    },
    {
      "cell_type": "markdown",
      "source": [
        "<center><img width=“700\" src = \"https://drive.google.com/uc?export=view&id=1ybUjIhriRWlMeTtn2NBiMzPXIQuTRZY3\"></center>"
      ],
      "metadata": {
        "id": "zBWDZJZo0Wgh"
      }
    },
    {
      "cell_type": "code",
      "metadata": {
        "id": "PjCnrR3YWZnu",
        "colab": {
          "base_uri": "https://localhost:8080/"
        },
        "outputId": "2e3dd9c1-0dce-4b38-9ba0-bc3a5cc1235d"
      },
      "source": [
        "from tensorflow.keras.models import Model\n",
        "from tensorflow.keras.layers import Input, LSTM, Dense, Embedding\n",
        "\n",
        "# Set hyperparameters\n",
        "d_1 = 32 # output dimension of the first LSTM layer\n",
        "d_2 = 32 # output dimension of the second LSTM layer\n",
        "K = 5 # Output dimension of the last layer \n",
        "\n",
        "# Define the two lstm layers\n",
        "embedding = Embedding(V, D, input_length=T, name = \"Embedding_layer\")\n",
        "lstm_1 = LSTM(d_1, return_sequences = True, name = \"LSTM_1_layer\")\n",
        "lstm_2 = LSTM(d_2, return_sequences = False, name = \"LSTM_2_layer\")\n",
        "dense_layer = Dense(K, activation = \"softmax\", name = \"Dense_layer\")\n",
        "\n",
        "\n",
        "# The input tensor\n",
        "input_tensor = Input(shape=(T,), dtype = \"int32\") # (N, T)\n",
        "\n",
        "# Apply the embeddin lyer\n",
        "#x = embedding_layer(input_tensor) # (N, T, D)\n",
        "x = embedding(input_tensor) # (N, T, D)\n",
        "\n",
        "# Apply the first LSTM layer\n",
        "y = lstm_1(x) # (N, T, d_1)\n",
        "\n",
        "# Apply the second LSTM layer\n",
        "h_T = lstm_2(y) # (N, d_2)\n",
        "\n",
        "# Apply the dense layer \n",
        "output = dense_layer(h_T) # (N, K)\n",
        "\n",
        "# Define the model\n",
        "model = Model(input_tensor, output)\n",
        "model.summary(line_length = 100)"
      ],
      "execution_count": null,
      "outputs": [
        {
          "output_type": "stream",
          "name": "stdout",
          "text": [
            "Model: \"model_1\"\n",
            "____________________________________________________________________________________________________\n",
            " Layer (type)                                Output Shape                            Param #        \n",
            "====================================================================================================\n",
            " input_2 (InputLayer)                        [(None, 300)]                           0              \n",
            "                                                                                                    \n",
            " Embedding_layer (Embedding)                 (None, 300, 200)                        2000000        \n",
            "                                                                                                    \n",
            " LSTM_1_layer (LSTM)                         (None, 300, 32)                         29824          \n",
            "                                                                                                    \n",
            " LSTM_2_layer (LSTM)                         (None, 32)                              8320           \n",
            "                                                                                                    \n",
            " Dense_layer (Dense)                         (None, 5)                               165            \n",
            "                                                                                                    \n",
            "====================================================================================================\n",
            "Total params: 2,038,309\n",
            "Trainable params: 2,038,309\n",
            "Non-trainable params: 0\n",
            "____________________________________________________________________________________________________\n"
          ]
        }
      ]
    },
    {
      "cell_type": "markdown",
      "source": [
        "---\n",
        "<font color=green>Q13:</font>\n",
        "<br><font color='green'>\n",
        "Compile your model by using **Adam** algorithm for the optimization instead of Stochastic Gradient Descent (See the following [link](https://arxiv.org/pdf/1412.6980.pdf)). Define different evaluation metrics (Accuracy, precision, recall)\n",
        "</font>\n",
        "\n",
        "---"
      ],
      "metadata": {
        "id": "Nr_AoTPZwdIY"
      }
    },
    {
      "cell_type": "markdown",
      "metadata": {
        "id": "GpuHUPB1i0ho"
      },
      "source": [
        "\n",
        "\n",
        "Adam is a modern adaptive learning rate technique, often considered as the default algorithm for many DL practitioners. It combines the idea of **momentum** and **adaptive learning rate** as shown in the following figure:\n",
        "\n"
      ]
    },
    {
      "cell_type": "markdown",
      "source": [
        "<center><img width=“700\" src = \"https://drive.google.com/uc?export=view&id=1IsjiRu3oMiRmky0AgZyr_sl97LqqJtOj\"></center>"
      ],
      "metadata": {
        "id": "KnZQKOI-0YEb"
      }
    },
    {
      "cell_type": "code",
      "source": [
        "METRICS = [\n",
        "    #tf.keras.metrics.Accuracy(name='accuracy'),\n",
        "    \"accuracy\",\n",
        "    tf.keras.metrics.Precision(name='precision'),\n",
        "    tf.keras.metrics.Recall(name='recall'),\n",
        "]"
      ],
      "metadata": {
        "id": "wOdJ-DkQupSt"
      },
      "execution_count": null,
      "outputs": []
    },
    {
      "cell_type": "code",
      "metadata": {
        "id": "1KQxh-Mqivqo"
      },
      "source": [
        "model.compile(optimizer=\"adam\",\n",
        "              loss = \"categorical_crossentropy\",\n",
        "              metrics = METRICS)"
      ],
      "execution_count": null,
      "outputs": []
    },
    {
      "cell_type": "markdown",
      "source": [
        "---\n",
        "<font color=green>Q14:</font>\n",
        "<br><font color='green'>\n",
        "Fit your model to the training data. \n",
        "* Use `EarlyStopping` from `tensorflow.keras.callbacks` to stop the training when the accuracy doesn't improve.\n",
        "\n",
        "* Use `ReduceLROnPlateau` from `tensorflow.keras.callbacks` to reduce the learning rate when the validation loss doesn't improve \n",
        "\n",
        "* Use `ModelCheckpoint` from `tensorflow.keras.callbacks` to save the best version of the model in a folder called `model`\n",
        "</font>\n",
        "\n",
        "---"
      ],
      "metadata": {
        "id": "AFuW6Cewwd2N"
      }
    },
    {
      "cell_type": "code",
      "metadata": {
        "id": "iSEW34_Wtvyu"
      },
      "source": [
        "from tensorflow.keras.callbacks import EarlyStopping, ReduceLROnPlateau, ModelCheckpoint\n",
        "checkpoint_filepath = os.path.join(os.getcwd(), \"model\")\n",
        "\n",
        "callbacks_list = [\n",
        "                  EarlyStopping( # Interrupt the training when there is no more improvement\n",
        "                      monitor = \"val_accuracy\", # Metric to monitor\n",
        "                      patience = 10 # Number of epochs before interrupting the training if there is no improvement\n",
        "                  ),\n",
        "                  ModelCheckpoint(\n",
        "                      filepath = checkpoint_filepath, # path to the destination model file\n",
        "                      monitor = \"val_loss\", # metric to monitor\n",
        "                      save_best_only = True # Keep the best model\n",
        "                  ),\n",
        "                  ReduceLROnPlateau(\n",
        "                      monitor = \"val_loss\", # metric to monitor\n",
        "                      factor = 0.1, # Multiply the lr by factor when triggered\n",
        "                      patience = 10 # Number of epochs of non improvement before the callback is triggered\n",
        "                  )\n",
        "]"
      ],
      "execution_count": null,
      "outputs": []
    },
    {
      "cell_type": "code",
      "source": [
        "history = model.fit(train_data, \n",
        "                    train_labels, \n",
        "                    epochs = 200, \n",
        "                    batch_size=256, \n",
        "                    callbacks = callbacks_list,\n",
        "                    validation_split=.2)"
      ],
      "metadata": {
        "id": "j_AVsmpTQE21",
        "colab": {
          "base_uri": "https://localhost:8080/"
        },
        "outputId": "4d9079c3-8ad6-4760-a9b8-d95284882658"
      },
      "execution_count": null,
      "outputs": [
        {
          "output_type": "stream",
          "name": "stdout",
          "text": [
            "Epoch 1/200\n",
            "6/6 [==============================] - ETA: 0s - loss: 1.6042 - accuracy: 0.3097 - precision: 0.0000e+00 - recall: 0.0000e+00"
          ]
        },
        {
          "output_type": "stream",
          "name": "stderr",
          "text": [
            "WARNING:absl:Found untraced functions such as lstm_cell_2_layer_call_fn, lstm_cell_2_layer_call_and_return_conditional_losses, lstm_cell_3_layer_call_fn, lstm_cell_3_layer_call_and_return_conditional_losses while saving (showing 4 of 4). These functions will not be directly callable after loading.\n"
          ]
        },
        {
          "output_type": "stream",
          "name": "stdout",
          "text": [
            "INFO:tensorflow:Assets written to: /content/gdrive/MyDrive/Colab Notebooks/Session_2022/Programming_Session_7/model/assets\n"
          ]
        },
        {
          "output_type": "stream",
          "name": "stderr",
          "text": [
            "INFO:tensorflow:Assets written to: /content/gdrive/MyDrive/Colab Notebooks/Session_2022/Programming_Session_7/model/assets\n",
            "WARNING:absl:<keras.layers.recurrent.LSTMCell object at 0x7fa297708b90> has the same name 'LSTMCell' as a built-in Keras object. Consider renaming <class 'keras.layers.recurrent.LSTMCell'> to avoid naming conflicts when loading with `tf.keras.models.load_model`. If renaming is not possible, pass the object in the `custom_objects` parameter of the load function.\n",
            "WARNING:absl:<keras.layers.recurrent.LSTMCell object at 0x7fa297728310> has the same name 'LSTMCell' as a built-in Keras object. Consider renaming <class 'keras.layers.recurrent.LSTMCell'> to avoid naming conflicts when loading with `tf.keras.models.load_model`. If renaming is not possible, pass the object in the `custom_objects` parameter of the load function.\n"
          ]
        },
        {
          "output_type": "stream",
          "name": "stdout",
          "text": [
            "\b\b\b\b\b\b\b\b\b\b\b\b\b\b\b\b\b\b\b\b\b\b\b\b\b\b\b\b\b\b\b\b\b\b\b\b\b\b\b\b\b\b\b\b\b\b\b\b\b\b\b\b\b\b\b\b\b\b\b\b\b\b\b\b\b\b\b\b\b\b\b\b\b\b\b\b\b\b\b\b\b\b\b\b\b\b\b\b\b\b\b\b\b\b\b\b\b\b\b\b\b\b\b\b\b\b\b\b\b\b\b\b\b\b\b\b\b\b\b\b\b\b\b\b\b\r6/6 [==============================] - 19s 3s/step - loss: 1.6042 - accuracy: 0.3097 - precision: 0.0000e+00 - recall: 0.0000e+00 - val_loss: 1.5923 - val_accuracy: 0.4326 - val_precision: 0.0000e+00 - val_recall: 0.0000e+00 - lr: 0.0010\n",
            "Epoch 2/200\n",
            "6/6 [==============================] - ETA: 0s - loss: 1.5648 - accuracy: 0.4565 - precision: 0.0000e+00 - recall: 0.0000e+00"
          ]
        },
        {
          "output_type": "stream",
          "name": "stderr",
          "text": [
            "WARNING:absl:Found untraced functions such as lstm_cell_2_layer_call_fn, lstm_cell_2_layer_call_and_return_conditional_losses, lstm_cell_3_layer_call_fn, lstm_cell_3_layer_call_and_return_conditional_losses while saving (showing 4 of 4). These functions will not be directly callable after loading.\n"
          ]
        },
        {
          "output_type": "stream",
          "name": "stdout",
          "text": [
            "INFO:tensorflow:Assets written to: /content/gdrive/MyDrive/Colab Notebooks/Session_2022/Programming_Session_7/model/assets\n"
          ]
        },
        {
          "output_type": "stream",
          "name": "stderr",
          "text": [
            "INFO:tensorflow:Assets written to: /content/gdrive/MyDrive/Colab Notebooks/Session_2022/Programming_Session_7/model/assets\n",
            "WARNING:absl:<keras.layers.recurrent.LSTMCell object at 0x7fa297708b90> has the same name 'LSTMCell' as a built-in Keras object. Consider renaming <class 'keras.layers.recurrent.LSTMCell'> to avoid naming conflicts when loading with `tf.keras.models.load_model`. If renaming is not possible, pass the object in the `custom_objects` parameter of the load function.\n",
            "WARNING:absl:<keras.layers.recurrent.LSTMCell object at 0x7fa297728310> has the same name 'LSTMCell' as a built-in Keras object. Consider renaming <class 'keras.layers.recurrent.LSTMCell'> to avoid naming conflicts when loading with `tf.keras.models.load_model`. If renaming is not possible, pass the object in the `custom_objects` parameter of the load function.\n"
          ]
        },
        {
          "output_type": "stream",
          "name": "stdout",
          "text": [
            "\b\b\b\b\b\b\b\b\b\b\b\b\b\b\b\b\b\b\b\b\b\b\b\b\b\b\b\b\b\b\b\b\b\b\b\b\b\b\b\b\b\b\b\b\b\b\b\b\b\b\b\b\b\b\b\b\b\b\b\b\b\b\b\b\b\b\b\b\b\b\b\b\b\b\b\b\b\b\b\b\b\b\b\b\b\b\b\b\b\b\b\b\b\b\b\b\b\b\b\b\b\b\b\b\b\b\b\b\b\b\b\b\b\b\b\b\b\b\b\b\b\b\b\b\b\r6/6 [==============================] - 14s 3s/step - loss: 1.5648 - accuracy: 0.4565 - precision: 0.0000e+00 - recall: 0.0000e+00 - val_loss: 1.5485 - val_accuracy: 0.4466 - val_precision: 0.0000e+00 - val_recall: 0.0000e+00 - lr: 0.0010\n",
            "Epoch 3/200\n",
            "6/6 [==============================] - ETA: 0s - loss: 1.4588 - accuracy: 0.4740 - precision: 0.0000e+00 - recall: 0.0000e+00"
          ]
        },
        {
          "output_type": "stream",
          "name": "stderr",
          "text": [
            "WARNING:absl:Found untraced functions such as lstm_cell_2_layer_call_fn, lstm_cell_2_layer_call_and_return_conditional_losses, lstm_cell_3_layer_call_fn, lstm_cell_3_layer_call_and_return_conditional_losses while saving (showing 4 of 4). These functions will not be directly callable after loading.\n"
          ]
        },
        {
          "output_type": "stream",
          "name": "stdout",
          "text": [
            "INFO:tensorflow:Assets written to: /content/gdrive/MyDrive/Colab Notebooks/Session_2022/Programming_Session_7/model/assets\n"
          ]
        },
        {
          "output_type": "stream",
          "name": "stderr",
          "text": [
            "INFO:tensorflow:Assets written to: /content/gdrive/MyDrive/Colab Notebooks/Session_2022/Programming_Session_7/model/assets\n",
            "WARNING:absl:<keras.layers.recurrent.LSTMCell object at 0x7fa297708b90> has the same name 'LSTMCell' as a built-in Keras object. Consider renaming <class 'keras.layers.recurrent.LSTMCell'> to avoid naming conflicts when loading with `tf.keras.models.load_model`. If renaming is not possible, pass the object in the `custom_objects` parameter of the load function.\n",
            "WARNING:absl:<keras.layers.recurrent.LSTMCell object at 0x7fa297728310> has the same name 'LSTMCell' as a built-in Keras object. Consider renaming <class 'keras.layers.recurrent.LSTMCell'> to avoid naming conflicts when loading with `tf.keras.models.load_model`. If renaming is not possible, pass the object in the `custom_objects` parameter of the load function.\n"
          ]
        },
        {
          "output_type": "stream",
          "name": "stdout",
          "text": [
            "\b\b\b\b\b\b\b\b\b\b\b\b\b\b\b\b\b\b\b\b\b\b\b\b\b\b\b\b\b\b\b\b\b\b\b\b\b\b\b\b\b\b\b\b\b\b\b\b\b\b\b\b\b\b\b\b\b\b\b\b\b\b\b\b\b\b\b\b\b\b\b\b\b\b\b\b\b\b\b\b\b\b\b\b\b\b\b\b\b\b\b\b\b\b\b\b\b\b\b\b\b\b\b\b\b\b\b\b\b\b\b\b\b\b\b\b\b\b\b\b\b\b\b\b\b\r6/6 [==============================] - 15s 3s/step - loss: 1.4588 - accuracy: 0.4740 - precision: 0.0000e+00 - recall: 0.0000e+00 - val_loss: 1.4041 - val_accuracy: 0.4888 - val_precision: 0.0000e+00 - val_recall: 0.0000e+00 - lr: 0.0010\n",
            "Epoch 4/200\n",
            "6/6 [==============================] - ETA: 0s - loss: 1.2140 - accuracy: 0.4726 - precision: 0.9776 - recall: 0.1531"
          ]
        },
        {
          "output_type": "stream",
          "name": "stderr",
          "text": [
            "WARNING:absl:Found untraced functions such as lstm_cell_2_layer_call_fn, lstm_cell_2_layer_call_and_return_conditional_losses, lstm_cell_3_layer_call_fn, lstm_cell_3_layer_call_and_return_conditional_losses while saving (showing 4 of 4). These functions will not be directly callable after loading.\n"
          ]
        },
        {
          "output_type": "stream",
          "name": "stdout",
          "text": [
            "INFO:tensorflow:Assets written to: /content/gdrive/MyDrive/Colab Notebooks/Session_2022/Programming_Session_7/model/assets\n"
          ]
        },
        {
          "output_type": "stream",
          "name": "stderr",
          "text": [
            "INFO:tensorflow:Assets written to: /content/gdrive/MyDrive/Colab Notebooks/Session_2022/Programming_Session_7/model/assets\n",
            "WARNING:absl:<keras.layers.recurrent.LSTMCell object at 0x7fa297708b90> has the same name 'LSTMCell' as a built-in Keras object. Consider renaming <class 'keras.layers.recurrent.LSTMCell'> to avoid naming conflicts when loading with `tf.keras.models.load_model`. If renaming is not possible, pass the object in the `custom_objects` parameter of the load function.\n",
            "WARNING:absl:<keras.layers.recurrent.LSTMCell object at 0x7fa297728310> has the same name 'LSTMCell' as a built-in Keras object. Consider renaming <class 'keras.layers.recurrent.LSTMCell'> to avoid naming conflicts when loading with `tf.keras.models.load_model`. If renaming is not possible, pass the object in the `custom_objects` parameter of the load function.\n"
          ]
        },
        {
          "output_type": "stream",
          "name": "stdout",
          "text": [
            "\b\b\b\b\b\b\b\b\b\b\b\b\b\b\b\b\b\b\b\b\b\b\b\b\b\b\b\b\b\b\b\b\b\b\b\b\b\b\b\b\b\b\b\b\b\b\b\b\b\b\b\b\b\b\b\b\b\b\b\b\b\b\b\b\b\b\b\b\b\b\b\b\b\b\b\b\b\b\b\b\b\b\b\b\b\b\b\b\b\b\b\b\b\b\b\b\b\b\b\b\b\b\b\b\b\b\b\b\b\b\b\b\b\b\b\b\b\r6/6 [==============================] - 14s 3s/step - loss: 1.2140 - accuracy: 0.4726 - precision: 0.9776 - recall: 0.1531 - val_loss: 1.1364 - val_accuracy: 0.4888 - val_precision: 0.8280 - val_recall: 0.2163 - lr: 0.0010\n",
            "Epoch 5/200\n",
            "6/6 [==============================] - ETA: 0s - loss: 0.9899 - accuracy: 0.4874 - precision: 0.8714 - recall: 0.2521"
          ]
        },
        {
          "output_type": "stream",
          "name": "stderr",
          "text": [
            "WARNING:absl:Found untraced functions such as lstm_cell_2_layer_call_fn, lstm_cell_2_layer_call_and_return_conditional_losses, lstm_cell_3_layer_call_fn, lstm_cell_3_layer_call_and_return_conditional_losses while saving (showing 4 of 4). These functions will not be directly callable after loading.\n"
          ]
        },
        {
          "output_type": "stream",
          "name": "stdout",
          "text": [
            "INFO:tensorflow:Assets written to: /content/gdrive/MyDrive/Colab Notebooks/Session_2022/Programming_Session_7/model/assets\n"
          ]
        },
        {
          "output_type": "stream",
          "name": "stderr",
          "text": [
            "INFO:tensorflow:Assets written to: /content/gdrive/MyDrive/Colab Notebooks/Session_2022/Programming_Session_7/model/assets\n",
            "WARNING:absl:<keras.layers.recurrent.LSTMCell object at 0x7fa297708b90> has the same name 'LSTMCell' as a built-in Keras object. Consider renaming <class 'keras.layers.recurrent.LSTMCell'> to avoid naming conflicts when loading with `tf.keras.models.load_model`. If renaming is not possible, pass the object in the `custom_objects` parameter of the load function.\n",
            "WARNING:absl:<keras.layers.recurrent.LSTMCell object at 0x7fa297728310> has the same name 'LSTMCell' as a built-in Keras object. Consider renaming <class 'keras.layers.recurrent.LSTMCell'> to avoid naming conflicts when loading with `tf.keras.models.load_model`. If renaming is not possible, pass the object in the `custom_objects` parameter of the load function.\n"
          ]
        },
        {
          "output_type": "stream",
          "name": "stdout",
          "text": [
            "\b\b\b\b\b\b\b\b\b\b\b\b\b\b\b\b\b\b\b\b\b\b\b\b\b\b\b\b\b\b\b\b\b\b\b\b\b\b\b\b\b\b\b\b\b\b\b\b\b\b\b\b\b\b\b\b\b\b\b\b\b\b\b\b\b\b\b\b\b\b\b\b\b\b\b\b\b\b\b\b\b\b\b\b\b\b\b\b\b\b\b\b\b\b\b\b\b\b\b\b\b\b\b\b\b\b\b\b\b\b\b\b\b\b\b\b\b\r6/6 [==============================] - 13s 2s/step - loss: 0.9899 - accuracy: 0.4874 - precision: 0.8714 - recall: 0.2521 - val_loss: 1.0184 - val_accuracy: 0.5028 - val_precision: 0.8931 - val_recall: 0.3287 - lr: 0.0010\n",
            "Epoch 6/200\n",
            "6/6 [==============================] - ETA: 0s - loss: 0.7643 - accuracy: 0.6973 - precision: 0.9795 - recall: 0.4698"
          ]
        },
        {
          "output_type": "stream",
          "name": "stderr",
          "text": [
            "WARNING:absl:Found untraced functions such as lstm_cell_2_layer_call_fn, lstm_cell_2_layer_call_and_return_conditional_losses, lstm_cell_3_layer_call_fn, lstm_cell_3_layer_call_and_return_conditional_losses while saving (showing 4 of 4). These functions will not be directly callable after loading.\n"
          ]
        },
        {
          "output_type": "stream",
          "name": "stdout",
          "text": [
            "INFO:tensorflow:Assets written to: /content/gdrive/MyDrive/Colab Notebooks/Session_2022/Programming_Session_7/model/assets\n"
          ]
        },
        {
          "output_type": "stream",
          "name": "stderr",
          "text": [
            "INFO:tensorflow:Assets written to: /content/gdrive/MyDrive/Colab Notebooks/Session_2022/Programming_Session_7/model/assets\n",
            "WARNING:absl:<keras.layers.recurrent.LSTMCell object at 0x7fa297708b90> has the same name 'LSTMCell' as a built-in Keras object. Consider renaming <class 'keras.layers.recurrent.LSTMCell'> to avoid naming conflicts when loading with `tf.keras.models.load_model`. If renaming is not possible, pass the object in the `custom_objects` parameter of the load function.\n",
            "WARNING:absl:<keras.layers.recurrent.LSTMCell object at 0x7fa297728310> has the same name 'LSTMCell' as a built-in Keras object. Consider renaming <class 'keras.layers.recurrent.LSTMCell'> to avoid naming conflicts when loading with `tf.keras.models.load_model`. If renaming is not possible, pass the object in the `custom_objects` parameter of the load function.\n"
          ]
        },
        {
          "output_type": "stream",
          "name": "stdout",
          "text": [
            "\b\b\b\b\b\b\b\b\b\b\b\b\b\b\b\b\b\b\b\b\b\b\b\b\b\b\b\b\b\b\b\b\b\b\b\b\b\b\b\b\b\b\b\b\b\b\b\b\b\b\b\b\b\b\b\b\b\b\b\b\b\b\b\b\b\b\b\b\b\b\b\b\b\b\b\b\b\b\b\b\b\b\b\b\b\b\b\b\b\b\b\b\b\b\b\b\b\b\b\b\b\b\b\b\b\b\b\b\b\b\b\b\b\b\b\b\b\r6/6 [==============================] - 14s 3s/step - loss: 0.7643 - accuracy: 0.6973 - precision: 0.9795 - recall: 0.4698 - val_loss: 0.8239 - val_accuracy: 0.8006 - val_precision: 0.9551 - val_recall: 0.4775 - lr: 0.0010\n",
            "Epoch 7/200\n",
            "6/6 [==============================] - ETA: 0s - loss: 0.5390 - accuracy: 0.9642 - precision: 0.9980 - recall: 0.7184"
          ]
        },
        {
          "output_type": "stream",
          "name": "stderr",
          "text": [
            "WARNING:absl:Found untraced functions such as lstm_cell_2_layer_call_fn, lstm_cell_2_layer_call_and_return_conditional_losses, lstm_cell_3_layer_call_fn, lstm_cell_3_layer_call_and_return_conditional_losses while saving (showing 4 of 4). These functions will not be directly callable after loading.\n"
          ]
        },
        {
          "output_type": "stream",
          "name": "stdout",
          "text": [
            "INFO:tensorflow:Assets written to: /content/gdrive/MyDrive/Colab Notebooks/Session_2022/Programming_Session_7/model/assets\n"
          ]
        },
        {
          "output_type": "stream",
          "name": "stderr",
          "text": [
            "INFO:tensorflow:Assets written to: /content/gdrive/MyDrive/Colab Notebooks/Session_2022/Programming_Session_7/model/assets\n",
            "WARNING:absl:<keras.layers.recurrent.LSTMCell object at 0x7fa297708b90> has the same name 'LSTMCell' as a built-in Keras object. Consider renaming <class 'keras.layers.recurrent.LSTMCell'> to avoid naming conflicts when loading with `tf.keras.models.load_model`. If renaming is not possible, pass the object in the `custom_objects` parameter of the load function.\n",
            "WARNING:absl:<keras.layers.recurrent.LSTMCell object at 0x7fa297728310> has the same name 'LSTMCell' as a built-in Keras object. Consider renaming <class 'keras.layers.recurrent.LSTMCell'> to avoid naming conflicts when loading with `tf.keras.models.load_model`. If renaming is not possible, pass the object in the `custom_objects` parameter of the load function.\n"
          ]
        },
        {
          "output_type": "stream",
          "name": "stdout",
          "text": [
            "\b\b\b\b\b\b\b\b\b\b\b\b\b\b\b\b\b\b\b\b\b\b\b\b\b\b\b\b\b\b\b\b\b\b\b\b\b\b\b\b\b\b\b\b\b\b\b\b\b\b\b\b\b\b\b\b\b\b\b\b\b\b\b\b\b\b\b\b\b\b\b\b\b\b\b\b\b\b\b\b\b\b\b\b\b\b\b\b\b\b\b\b\b\b\b\b\b\b\b\b\b\b\b\b\b\b\b\b\b\b\b\b\b\b\b\b\b\r6/6 [==============================] - 14s 3s/step - loss: 0.5390 - accuracy: 0.9642 - precision: 0.9980 - recall: 0.7184 - val_loss: 0.6351 - val_accuracy: 0.8596 - val_precision: 0.9257 - val_recall: 0.6994 - lr: 0.0010\n",
            "Epoch 8/200\n",
            "6/6 [==============================] - ETA: 0s - loss: 0.3602 - accuracy: 0.9867 - precision: 0.9976 - recall: 0.8596"
          ]
        },
        {
          "output_type": "stream",
          "name": "stderr",
          "text": [
            "WARNING:absl:Found untraced functions such as lstm_cell_2_layer_call_fn, lstm_cell_2_layer_call_and_return_conditional_losses, lstm_cell_3_layer_call_fn, lstm_cell_3_layer_call_and_return_conditional_losses while saving (showing 4 of 4). These functions will not be directly callable after loading.\n"
          ]
        },
        {
          "output_type": "stream",
          "name": "stdout",
          "text": [
            "INFO:tensorflow:Assets written to: /content/gdrive/MyDrive/Colab Notebooks/Session_2022/Programming_Session_7/model/assets\n"
          ]
        },
        {
          "output_type": "stream",
          "name": "stderr",
          "text": [
            "INFO:tensorflow:Assets written to: /content/gdrive/MyDrive/Colab Notebooks/Session_2022/Programming_Session_7/model/assets\n",
            "WARNING:absl:<keras.layers.recurrent.LSTMCell object at 0x7fa297708b90> has the same name 'LSTMCell' as a built-in Keras object. Consider renaming <class 'keras.layers.recurrent.LSTMCell'> to avoid naming conflicts when loading with `tf.keras.models.load_model`. If renaming is not possible, pass the object in the `custom_objects` parameter of the load function.\n",
            "WARNING:absl:<keras.layers.recurrent.LSTMCell object at 0x7fa297728310> has the same name 'LSTMCell' as a built-in Keras object. Consider renaming <class 'keras.layers.recurrent.LSTMCell'> to avoid naming conflicts when loading with `tf.keras.models.load_model`. If renaming is not possible, pass the object in the `custom_objects` parameter of the load function.\n"
          ]
        },
        {
          "output_type": "stream",
          "name": "stdout",
          "text": [
            "\b\b\b\b\b\b\b\b\b\b\b\b\b\b\b\b\b\b\b\b\b\b\b\b\b\b\b\b\b\b\b\b\b\b\b\b\b\b\b\b\b\b\b\b\b\b\b\b\b\b\b\b\b\b\b\b\b\b\b\b\b\b\b\b\b\b\b\b\b\b\b\b\b\b\b\b\b\b\b\b\b\b\b\b\b\b\b\b\b\b\b\b\b\b\b\b\b\b\b\b\b\b\b\b\b\b\b\b\b\b\b\b\b\b\b\b\b\r6/6 [==============================] - 13s 2s/step - loss: 0.3602 - accuracy: 0.9867 - precision: 0.9976 - recall: 0.8596 - val_loss: 0.4945 - val_accuracy: 0.9101 - val_precision: 0.9388 - val_recall: 0.8624 - lr: 0.0010\n",
            "Epoch 9/200\n",
            "6/6 [==============================] - ETA: 0s - loss: 0.2373 - accuracy: 0.9965 - precision: 0.9986 - recall: 0.9944"
          ]
        },
        {
          "output_type": "stream",
          "name": "stderr",
          "text": [
            "WARNING:absl:Found untraced functions such as lstm_cell_2_layer_call_fn, lstm_cell_2_layer_call_and_return_conditional_losses, lstm_cell_3_layer_call_fn, lstm_cell_3_layer_call_and_return_conditional_losses while saving (showing 4 of 4). These functions will not be directly callable after loading.\n"
          ]
        },
        {
          "output_type": "stream",
          "name": "stdout",
          "text": [
            "INFO:tensorflow:Assets written to: /content/gdrive/MyDrive/Colab Notebooks/Session_2022/Programming_Session_7/model/assets\n"
          ]
        },
        {
          "output_type": "stream",
          "name": "stderr",
          "text": [
            "INFO:tensorflow:Assets written to: /content/gdrive/MyDrive/Colab Notebooks/Session_2022/Programming_Session_7/model/assets\n",
            "WARNING:absl:<keras.layers.recurrent.LSTMCell object at 0x7fa297708b90> has the same name 'LSTMCell' as a built-in Keras object. Consider renaming <class 'keras.layers.recurrent.LSTMCell'> to avoid naming conflicts when loading with `tf.keras.models.load_model`. If renaming is not possible, pass the object in the `custom_objects` parameter of the load function.\n",
            "WARNING:absl:<keras.layers.recurrent.LSTMCell object at 0x7fa297728310> has the same name 'LSTMCell' as a built-in Keras object. Consider renaming <class 'keras.layers.recurrent.LSTMCell'> to avoid naming conflicts when loading with `tf.keras.models.load_model`. If renaming is not possible, pass the object in the `custom_objects` parameter of the load function.\n"
          ]
        },
        {
          "output_type": "stream",
          "name": "stdout",
          "text": [
            "\b\b\b\b\b\b\b\b\b\b\b\b\b\b\b\b\b\b\b\b\b\b\b\b\b\b\b\b\b\b\b\b\b\b\b\b\b\b\b\b\b\b\b\b\b\b\b\b\b\b\b\b\b\b\b\b\b\b\b\b\b\b\b\b\b\b\b\b\b\b\b\b\b\b\b\b\b\b\b\b\b\b\b\b\b\b\b\b\b\b\b\b\b\b\b\b\b\b\b\b\b\b\b\b\b\b\b\b\b\b\b\b\b\b\b\b\b\r6/6 [==============================] - 14s 3s/step - loss: 0.2373 - accuracy: 0.9965 - precision: 0.9986 - recall: 0.9944 - val_loss: 0.4036 - val_accuracy: 0.9270 - val_precision: 0.9312 - val_recall: 0.9129 - lr: 0.0010\n",
            "Epoch 10/200\n",
            "6/6 [==============================] - ETA: 0s - loss: 0.1686 - accuracy: 0.9965 - precision: 0.9972 - recall: 0.9965"
          ]
        },
        {
          "output_type": "stream",
          "name": "stderr",
          "text": [
            "WARNING:absl:Found untraced functions such as lstm_cell_2_layer_call_fn, lstm_cell_2_layer_call_and_return_conditional_losses, lstm_cell_3_layer_call_fn, lstm_cell_3_layer_call_and_return_conditional_losses while saving (showing 4 of 4). These functions will not be directly callable after loading.\n"
          ]
        },
        {
          "output_type": "stream",
          "name": "stdout",
          "text": [
            "INFO:tensorflow:Assets written to: /content/gdrive/MyDrive/Colab Notebooks/Session_2022/Programming_Session_7/model/assets\n"
          ]
        },
        {
          "output_type": "stream",
          "name": "stderr",
          "text": [
            "INFO:tensorflow:Assets written to: /content/gdrive/MyDrive/Colab Notebooks/Session_2022/Programming_Session_7/model/assets\n",
            "WARNING:absl:<keras.layers.recurrent.LSTMCell object at 0x7fa297708b90> has the same name 'LSTMCell' as a built-in Keras object. Consider renaming <class 'keras.layers.recurrent.LSTMCell'> to avoid naming conflicts when loading with `tf.keras.models.load_model`. If renaming is not possible, pass the object in the `custom_objects` parameter of the load function.\n",
            "WARNING:absl:<keras.layers.recurrent.LSTMCell object at 0x7fa297728310> has the same name 'LSTMCell' as a built-in Keras object. Consider renaming <class 'keras.layers.recurrent.LSTMCell'> to avoid naming conflicts when loading with `tf.keras.models.load_model`. If renaming is not possible, pass the object in the `custom_objects` parameter of the load function.\n"
          ]
        },
        {
          "output_type": "stream",
          "name": "stdout",
          "text": [
            "\b\b\b\b\b\b\b\b\b\b\b\b\b\b\b\b\b\b\b\b\b\b\b\b\b\b\b\b\b\b\b\b\b\b\b\b\b\b\b\b\b\b\b\b\b\b\b\b\b\b\b\b\b\b\b\b\b\b\b\b\b\b\b\b\b\b\b\b\b\b\b\b\b\b\b\b\b\b\b\b\b\b\b\b\b\b\b\b\b\b\b\b\b\b\b\b\b\b\b\b\b\b\b\b\b\b\b\b\b\b\b\b\b\b\b\b\b\r6/6 [==============================] - 14s 3s/step - loss: 0.1686 - accuracy: 0.9965 - precision: 0.9972 - recall: 0.9965 - val_loss: 0.3821 - val_accuracy: 0.9129 - val_precision: 0.9127 - val_recall: 0.9101 - lr: 0.0010\n",
            "Epoch 11/200\n",
            "6/6 [==============================] - ETA: 0s - loss: 0.1245 - accuracy: 0.9979 - precision: 0.9979 - recall: 0.9979"
          ]
        },
        {
          "output_type": "stream",
          "name": "stderr",
          "text": [
            "WARNING:absl:Found untraced functions such as lstm_cell_2_layer_call_fn, lstm_cell_2_layer_call_and_return_conditional_losses, lstm_cell_3_layer_call_fn, lstm_cell_3_layer_call_and_return_conditional_losses while saving (showing 4 of 4). These functions will not be directly callable after loading.\n"
          ]
        },
        {
          "output_type": "stream",
          "name": "stdout",
          "text": [
            "INFO:tensorflow:Assets written to: /content/gdrive/MyDrive/Colab Notebooks/Session_2022/Programming_Session_7/model/assets\n"
          ]
        },
        {
          "output_type": "stream",
          "name": "stderr",
          "text": [
            "INFO:tensorflow:Assets written to: /content/gdrive/MyDrive/Colab Notebooks/Session_2022/Programming_Session_7/model/assets\n",
            "WARNING:absl:<keras.layers.recurrent.LSTMCell object at 0x7fa297708b90> has the same name 'LSTMCell' as a built-in Keras object. Consider renaming <class 'keras.layers.recurrent.LSTMCell'> to avoid naming conflicts when loading with `tf.keras.models.load_model`. If renaming is not possible, pass the object in the `custom_objects` parameter of the load function.\n",
            "WARNING:absl:<keras.layers.recurrent.LSTMCell object at 0x7fa297728310> has the same name 'LSTMCell' as a built-in Keras object. Consider renaming <class 'keras.layers.recurrent.LSTMCell'> to avoid naming conflicts when loading with `tf.keras.models.load_model`. If renaming is not possible, pass the object in the `custom_objects` parameter of the load function.\n"
          ]
        },
        {
          "output_type": "stream",
          "name": "stdout",
          "text": [
            "\b\b\b\b\b\b\b\b\b\b\b\b\b\b\b\b\b\b\b\b\b\b\b\b\b\b\b\b\b\b\b\b\b\b\b\b\b\b\b\b\b\b\b\b\b\b\b\b\b\b\b\b\b\b\b\b\b\b\b\b\b\b\b\b\b\b\b\b\b\b\b\b\b\b\b\b\b\b\b\b\b\b\b\b\b\b\b\b\b\b\b\b\b\b\b\b\b\b\b\b\b\b\b\b\b\b\b\b\b\b\b\b\b\b\b\b\b\r6/6 [==============================] - 14s 3s/step - loss: 0.1245 - accuracy: 0.9979 - precision: 0.9979 - recall: 0.9979 - val_loss: 0.3720 - val_accuracy: 0.9157 - val_precision: 0.9205 - val_recall: 0.9101 - lr: 0.0010\n",
            "Epoch 12/200\n",
            "6/6 [==============================] - ETA: 0s - loss: 0.1016 - accuracy: 0.9965 - precision: 0.9965 - recall: 0.9958"
          ]
        },
        {
          "output_type": "stream",
          "name": "stderr",
          "text": [
            "WARNING:absl:Found untraced functions such as lstm_cell_2_layer_call_fn, lstm_cell_2_layer_call_and_return_conditional_losses, lstm_cell_3_layer_call_fn, lstm_cell_3_layer_call_and_return_conditional_losses while saving (showing 4 of 4). These functions will not be directly callable after loading.\n"
          ]
        },
        {
          "output_type": "stream",
          "name": "stdout",
          "text": [
            "INFO:tensorflow:Assets written to: /content/gdrive/MyDrive/Colab Notebooks/Session_2022/Programming_Session_7/model/assets\n"
          ]
        },
        {
          "output_type": "stream",
          "name": "stderr",
          "text": [
            "INFO:tensorflow:Assets written to: /content/gdrive/MyDrive/Colab Notebooks/Session_2022/Programming_Session_7/model/assets\n",
            "WARNING:absl:<keras.layers.recurrent.LSTMCell object at 0x7fa297708b90> has the same name 'LSTMCell' as a built-in Keras object. Consider renaming <class 'keras.layers.recurrent.LSTMCell'> to avoid naming conflicts when loading with `tf.keras.models.load_model`. If renaming is not possible, pass the object in the `custom_objects` parameter of the load function.\n",
            "WARNING:absl:<keras.layers.recurrent.LSTMCell object at 0x7fa297728310> has the same name 'LSTMCell' as a built-in Keras object. Consider renaming <class 'keras.layers.recurrent.LSTMCell'> to avoid naming conflicts when loading with `tf.keras.models.load_model`. If renaming is not possible, pass the object in the `custom_objects` parameter of the load function.\n"
          ]
        },
        {
          "output_type": "stream",
          "name": "stdout",
          "text": [
            "\b\b\b\b\b\b\b\b\b\b\b\b\b\b\b\b\b\b\b\b\b\b\b\b\b\b\b\b\b\b\b\b\b\b\b\b\b\b\b\b\b\b\b\b\b\b\b\b\b\b\b\b\b\b\b\b\b\b\b\b\b\b\b\b\b\b\b\b\b\b\b\b\b\b\b\b\b\b\b\b\b\b\b\b\b\b\b\b\b\b\b\b\b\b\b\b\b\b\b\b\b\b\b\b\b\b\b\b\b\b\b\b\b\b\b\b\b\r6/6 [==============================] - 13s 2s/step - loss: 0.1016 - accuracy: 0.9965 - precision: 0.9965 - recall: 0.9958 - val_loss: 0.3413 - val_accuracy: 0.9185 - val_precision: 0.9235 - val_recall: 0.9157 - lr: 0.0010\n",
            "Epoch 13/200\n",
            "6/6 [==============================] - ETA: 0s - loss: 0.0766 - accuracy: 0.9993 - precision: 0.9993 - recall: 0.9993"
          ]
        },
        {
          "output_type": "stream",
          "name": "stderr",
          "text": [
            "WARNING:absl:Found untraced functions such as lstm_cell_2_layer_call_fn, lstm_cell_2_layer_call_and_return_conditional_losses, lstm_cell_3_layer_call_fn, lstm_cell_3_layer_call_and_return_conditional_losses while saving (showing 4 of 4). These functions will not be directly callable after loading.\n"
          ]
        },
        {
          "output_type": "stream",
          "name": "stdout",
          "text": [
            "INFO:tensorflow:Assets written to: /content/gdrive/MyDrive/Colab Notebooks/Session_2022/Programming_Session_7/model/assets\n"
          ]
        },
        {
          "output_type": "stream",
          "name": "stderr",
          "text": [
            "INFO:tensorflow:Assets written to: /content/gdrive/MyDrive/Colab Notebooks/Session_2022/Programming_Session_7/model/assets\n",
            "WARNING:absl:<keras.layers.recurrent.LSTMCell object at 0x7fa297708b90> has the same name 'LSTMCell' as a built-in Keras object. Consider renaming <class 'keras.layers.recurrent.LSTMCell'> to avoid naming conflicts when loading with `tf.keras.models.load_model`. If renaming is not possible, pass the object in the `custom_objects` parameter of the load function.\n",
            "WARNING:absl:<keras.layers.recurrent.LSTMCell object at 0x7fa297728310> has the same name 'LSTMCell' as a built-in Keras object. Consider renaming <class 'keras.layers.recurrent.LSTMCell'> to avoid naming conflicts when loading with `tf.keras.models.load_model`. If renaming is not possible, pass the object in the `custom_objects` parameter of the load function.\n"
          ]
        },
        {
          "output_type": "stream",
          "name": "stdout",
          "text": [
            "\b\b\b\b\b\b\b\b\b\b\b\b\b\b\b\b\b\b\b\b\b\b\b\b\b\b\b\b\b\b\b\b\b\b\b\b\b\b\b\b\b\b\b\b\b\b\b\b\b\b\b\b\b\b\b\b\b\b\b\b\b\b\b\b\b\b\b\b\b\b\b\b\b\b\b\b\b\b\b\b\b\b\b\b\b\b\b\b\b\b\b\b\b\b\b\b\b\b\b\b\b\b\b\b\b\b\b\b\b\b\b\b\b\b\b\b\b\r6/6 [==============================] - 14s 3s/step - loss: 0.0766 - accuracy: 0.9993 - precision: 0.9993 - recall: 0.9993 - val_loss: 0.3350 - val_accuracy: 0.9129 - val_precision: 0.9129 - val_recall: 0.9129 - lr: 0.0010\n",
            "Epoch 14/200\n",
            "6/6 [==============================] - ETA: 0s - loss: 0.0652 - accuracy: 0.9986 - precision: 0.9986 - recall: 0.9979"
          ]
        },
        {
          "output_type": "stream",
          "name": "stderr",
          "text": [
            "WARNING:absl:Found untraced functions such as lstm_cell_2_layer_call_fn, lstm_cell_2_layer_call_and_return_conditional_losses, lstm_cell_3_layer_call_fn, lstm_cell_3_layer_call_and_return_conditional_losses while saving (showing 4 of 4). These functions will not be directly callable after loading.\n"
          ]
        },
        {
          "output_type": "stream",
          "name": "stdout",
          "text": [
            "INFO:tensorflow:Assets written to: /content/gdrive/MyDrive/Colab Notebooks/Session_2022/Programming_Session_7/model/assets\n"
          ]
        },
        {
          "output_type": "stream",
          "name": "stderr",
          "text": [
            "INFO:tensorflow:Assets written to: /content/gdrive/MyDrive/Colab Notebooks/Session_2022/Programming_Session_7/model/assets\n",
            "WARNING:absl:<keras.layers.recurrent.LSTMCell object at 0x7fa297708b90> has the same name 'LSTMCell' as a built-in Keras object. Consider renaming <class 'keras.layers.recurrent.LSTMCell'> to avoid naming conflicts when loading with `tf.keras.models.load_model`. If renaming is not possible, pass the object in the `custom_objects` parameter of the load function.\n",
            "WARNING:absl:<keras.layers.recurrent.LSTMCell object at 0x7fa297728310> has the same name 'LSTMCell' as a built-in Keras object. Consider renaming <class 'keras.layers.recurrent.LSTMCell'> to avoid naming conflicts when loading with `tf.keras.models.load_model`. If renaming is not possible, pass the object in the `custom_objects` parameter of the load function.\n"
          ]
        },
        {
          "output_type": "stream",
          "name": "stdout",
          "text": [
            "\b\b\b\b\b\b\b\b\b\b\b\b\b\b\b\b\b\b\b\b\b\b\b\b\b\b\b\b\b\b\b\b\b\b\b\b\b\b\b\b\b\b\b\b\b\b\b\b\b\b\b\b\b\b\b\b\b\b\b\b\b\b\b\b\b\b\b\b\b\b\b\b\b\b\b\b\b\b\b\b\b\b\b\b\b\b\b\b\b\b\b\b\b\b\b\b\b\b\b\b\b\b\b\b\b\b\b\b\b\b\b\b\b\b\b\b\b\r6/6 [==============================] - 14s 3s/step - loss: 0.0652 - accuracy: 0.9986 - precision: 0.9986 - recall: 0.9979 - val_loss: 0.3039 - val_accuracy: 0.9298 - val_precision: 0.9298 - val_recall: 0.9298 - lr: 0.0010\n",
            "Epoch 15/200\n",
            "6/6 [==============================] - 6s 941ms/step - loss: 0.0552 - accuracy: 0.9986 - precision: 0.9993 - recall: 0.9986 - val_loss: 0.3576 - val_accuracy: 0.9157 - val_precision: 0.9209 - val_recall: 0.9157 - lr: 0.0010\n",
            "Epoch 16/200\n",
            "6/6 [==============================] - 6s 925ms/step - loss: 0.0499 - accuracy: 0.9986 - precision: 0.9986 - recall: 0.9986 - val_loss: 0.3630 - val_accuracy: 0.9129 - val_precision: 0.9129 - val_recall: 0.9129 - lr: 0.0010\n",
            "Epoch 17/200\n",
            "6/6 [==============================] - 6s 932ms/step - loss: 0.0399 - accuracy: 1.0000 - precision: 1.0000 - recall: 1.0000 - val_loss: 0.3647 - val_accuracy: 0.9129 - val_precision: 0.9181 - val_recall: 0.9129 - lr: 0.0010\n",
            "Epoch 18/200\n",
            "6/6 [==============================] - 6s 936ms/step - loss: 0.0350 - accuracy: 1.0000 - precision: 1.0000 - recall: 1.0000 - val_loss: 0.3614 - val_accuracy: 0.9157 - val_precision: 0.9157 - val_recall: 0.9157 - lr: 0.0010\n",
            "Epoch 19/200\n",
            "6/6 [==============================] - 6s 925ms/step - loss: 0.0311 - accuracy: 1.0000 - precision: 1.0000 - recall: 1.0000 - val_loss: 0.3479 - val_accuracy: 0.9185 - val_precision: 0.9237 - val_recall: 0.9185 - lr: 0.0010\n",
            "Epoch 20/200\n",
            "6/6 [==============================] - 6s 928ms/step - loss: 0.0278 - accuracy: 1.0000 - precision: 1.0000 - recall: 1.0000 - val_loss: 0.3356 - val_accuracy: 0.9242 - val_precision: 0.9242 - val_recall: 0.9242 - lr: 0.0010\n",
            "Epoch 21/200\n",
            "6/6 [==============================] - 6s 939ms/step - loss: 0.0253 - accuracy: 1.0000 - precision: 1.0000 - recall: 1.0000 - val_loss: 0.3577 - val_accuracy: 0.9157 - val_precision: 0.9155 - val_recall: 0.9129 - lr: 0.0010\n",
            "Epoch 22/200\n",
            "6/6 [==============================] - 6s 934ms/step - loss: 0.0252 - accuracy: 0.9986 - precision: 0.9986 - recall: 0.9986 - val_loss: 0.3175 - val_accuracy: 0.9326 - val_precision: 0.9324 - val_recall: 0.9298 - lr: 0.0010\n",
            "Epoch 23/200\n",
            "6/6 [==============================] - 6s 934ms/step - loss: 0.0231 - accuracy: 0.9993 - precision: 0.9993 - recall: 0.9993 - val_loss: 0.3123 - val_accuracy: 0.9326 - val_precision: 0.9326 - val_recall: 0.9326 - lr: 0.0010\n",
            "Epoch 24/200\n",
            "6/6 [==============================] - 6s 928ms/step - loss: 0.0210 - accuracy: 0.9993 - precision: 0.9993 - recall: 0.9993 - val_loss: 0.3438 - val_accuracy: 0.9185 - val_precision: 0.9185 - val_recall: 0.9185 - lr: 0.0010\n",
            "Epoch 25/200\n",
            "6/6 [==============================] - 6s 928ms/step - loss: 0.0187 - accuracy: 1.0000 - precision: 1.0000 - recall: 1.0000 - val_loss: 0.3392 - val_accuracy: 0.9185 - val_precision: 0.9181 - val_recall: 0.9129 - lr: 1.0000e-04\n",
            "Epoch 26/200\n",
            "6/6 [==============================] - 6s 928ms/step - loss: 0.0183 - accuracy: 1.0000 - precision: 1.0000 - recall: 1.0000 - val_loss: 0.3319 - val_accuracy: 0.9157 - val_precision: 0.9209 - val_recall: 0.9157 - lr: 1.0000e-04\n",
            "Epoch 27/200\n",
            "6/6 [==============================] - 6s 935ms/step - loss: 0.0181 - accuracy: 1.0000 - precision: 1.0000 - recall: 1.0000 - val_loss: 0.3265 - val_accuracy: 0.9185 - val_precision: 0.9183 - val_recall: 0.9157 - lr: 1.0000e-04\n",
            "Epoch 28/200\n",
            "6/6 [==============================] - 6s 935ms/step - loss: 0.0179 - accuracy: 1.0000 - precision: 1.0000 - recall: 1.0000 - val_loss: 0.3228 - val_accuracy: 0.9185 - val_precision: 0.9211 - val_recall: 0.9185 - lr: 1.0000e-04\n",
            "Epoch 29/200\n",
            "6/6 [==============================] - 6s 933ms/step - loss: 0.0177 - accuracy: 1.0000 - precision: 1.0000 - recall: 1.0000 - val_loss: 0.3205 - val_accuracy: 0.9213 - val_precision: 0.9213 - val_recall: 0.9213 - lr: 1.0000e-04\n",
            "Epoch 30/200\n",
            "6/6 [==============================] - 6s 932ms/step - loss: 0.0176 - accuracy: 1.0000 - precision: 1.0000 - recall: 1.0000 - val_loss: 0.3191 - val_accuracy: 0.9213 - val_precision: 0.9266 - val_recall: 0.9213 - lr: 1.0000e-04\n",
            "Epoch 31/200\n",
            "6/6 [==============================] - 6s 934ms/step - loss: 0.0174 - accuracy: 1.0000 - precision: 1.0000 - recall: 1.0000 - val_loss: 0.3183 - val_accuracy: 0.9213 - val_precision: 0.9266 - val_recall: 0.9213 - lr: 1.0000e-04\n",
            "Epoch 32/200\n",
            "6/6 [==============================] - 6s 925ms/step - loss: 0.0173 - accuracy: 1.0000 - precision: 1.0000 - recall: 1.0000 - val_loss: 0.3178 - val_accuracy: 0.9270 - val_precision: 0.9292 - val_recall: 0.9213 - lr: 1.0000e-04\n"
          ]
        }
      ]
    },
    {
      "cell_type": "markdown",
      "source": [
        "---\n",
        "<font color=green>Q15:</font>\n",
        "<br><font color='green'>\n",
        "Test your model on the test data \n",
        "</font>\n",
        "\n",
        "---"
      ],
      "metadata": {
        "id": "6wcCrQY7wejP"
      }
    },
    {
      "cell_type": "code",
      "source": [
        "# Evaluate the model \n",
        "model.evaluate(test_data, test_labels)\n",
        "# model.predict(test_data) -> predictions -> compare predictions (N_test, K) with test_labels (N_test, K)"
      ],
      "metadata": {
        "colab": {
          "base_uri": "https://localhost:8080/"
        },
        "id": "xza2c16O8dMl",
        "outputId": "561d09d3-c572-4976-aa09-e30058de696b"
      },
      "execution_count": null,
      "outputs": [
        {
          "output_type": "stream",
          "name": "stdout",
          "text": [
            "14/14 [==============================] - 1s 56ms/step - loss: 0.2133 - accuracy: 0.9461 - precision: 0.9461 - recall: 0.9461\n"
          ]
        },
        {
          "output_type": "execute_result",
          "data": {
            "text/plain": [
              "[0.2132977396249771,\n",
              " 0.9460673928260803,\n",
              " 0.9460673928260803,\n",
              " 0.9460673928260803]"
            ]
          },
          "metadata": {},
          "execution_count": 33
        }
      ]
    },
    {
      "cell_type": "markdown",
      "source": [
        "---\n",
        "<font color=green>Q16:</font>\n",
        "<br><font color='green'>\n",
        "Plot the training and validation loss\n",
        "</font>\n",
        "\n",
        "---"
      ],
      "metadata": {
        "id": "iF0p3wG3wfcq"
      }
    },
    {
      "cell_type": "code",
      "metadata": {
        "id": "7yaIvxYbd36U",
        "colab": {
          "base_uri": "https://localhost:8080/",
          "height": 458
        },
        "outputId": "255f8e88-21e3-40c9-ff6f-b342b719be22"
      },
      "source": [
        "figure = plt.figure(figsize = (10, 7))\n",
        "plt.plot(history.history[\"loss\"], label = \"Train_loss\")\n",
        "plt.plot(history.history[\"val_loss\"], label = \"Validation_loss\")\n",
        "plt.xlabel(\"epochs\")\n",
        "plt.ylabel(\"Loss\")\n",
        "plt.title(\"Train vs Validation Loss\")\n",
        "plt.legend()\n",
        "plt.show()"
      ],
      "execution_count": null,
      "outputs": [
        {
          "output_type": "display_data",
          "data": {
            "text/plain": [
              "<Figure size 720x504 with 1 Axes>"
            ],
            "image/png": "[encoded data removed]"
          },
          "metadata": {}
        }
      ]
    },
    {
      "cell_type": "markdown",
      "source": [
        "---\n",
        "<font color=green>Q17:</font>\n",
        "<br><font color='green'>\n",
        "Plot the training and validation accuracy\n",
        "</font>\n",
        "\n",
        "---"
      ],
      "metadata": {
        "id": "1PIinMztwkPA"
      }
    },
    {
      "cell_type": "code",
      "metadata": {
        "id": "6i-Czh21d33w",
        "colab": {
          "base_uri": "https://localhost:8080/",
          "height": 458
        },
        "outputId": "f0851fc2-568f-4fd7-849a-7a8d76c3e7ba"
      },
      "source": [
        "figure = plt.figure(figsize = (10, 7))\n",
        "plt.plot(history.history[\"accuracy\"], label = \"Train_accuracy\")\n",
        "plt.plot(history.history[\"val_accuracy\"], label = \"Validation_accuracy\")\n",
        "plt.xlabel(\"epochs\")\n",
        "plt.ylabel(\"Accuracy\")\n",
        "plt.title(\"Train vs Validation Accurcy\")\n",
        "plt.legend()\n",
        "plt.show()"
      ],
      "execution_count": null,
      "outputs": [
        {
          "output_type": "display_data",
          "data": {
            "text/plain": [
              "<Figure size 720x504 with 1 Axes>"
            ],
            "image/png": "[encoded data removed]"
          },
          "metadata": {}
        }
      ]
    },
    {
      "cell_type": "markdown",
      "source": [
        "---\n",
        "<font color=green>Q18:</font>\n",
        "<br><font color='green'>\n",
        "Plot the training and validation precision\n",
        "</font>\n",
        "\n",
        "---"
      ],
      "metadata": {
        "id": "DGaemsu4wky4"
      }
    },
    {
      "cell_type": "code",
      "source": [
        "figure = plt.figure(figsize = (10, 7))\n",
        "plt.plot(history.history[\"precision\"], label = \"Train_precision\")\n",
        "plt.plot(history.history[\"val_precision\"], label = \"Validation_precision\")\n",
        "plt.xlabel(\"epochs\")\n",
        "plt.ylabel(\"Precision\")\n",
        "plt.title(\"Train vs Validation Precision\")\n",
        "plt.legend()\n",
        "plt.show()"
      ],
      "metadata": {
        "id": "SZeoWZzDyFh2",
        "colab": {
          "base_uri": "https://localhost:8080/",
          "height": 458
        },
        "outputId": "506b6220-cf4b-4d25-96f9-0029e251fcb0"
      },
      "execution_count": null,
      "outputs": [
        {
          "output_type": "display_data",
          "data": {
            "text/plain": [
              "<Figure size 720x504 with 1 Axes>"
            ],
            "image/png": "[encoded data removed]"
          },
          "metadata": {}
        }
      ]
    },
    {
      "cell_type": "markdown",
      "source": [
        "---\n",
        "<font color=green>Q19:</font>\n",
        "<br><font color='green'>\n",
        "Plot the training and validation recall\n",
        "</font>\n",
        "\n",
        "---"
      ],
      "metadata": {
        "id": "KLN4_OPEwmsw"
      }
    },
    {
      "cell_type": "code",
      "source": [
        "figure = plt.figure(figsize = (10, 7))\n",
        "plt.plot(history.history[\"recall\"], label = \"Train_recall\")\n",
        "plt.plot(history.history[\"val_recall\"], label = \"Validation_recall\")\n",
        "plt.xlabel(\"epochs\")\n",
        "plt.ylabel(\"Recall\")\n",
        "plt.title(\"Train vs Validation Recall\")\n",
        "plt.legend()\n",
        "plt.show()"
      ],
      "metadata": {
        "id": "waO_Xuk1yYeJ",
        "colab": {
          "base_uri": "https://localhost:8080/",
          "height": 458
        },
        "outputId": "9ee945be-5da9-4805-fe4e-d19083269193"
      },
      "execution_count": null,
      "outputs": [
        {
          "output_type": "display_data",
          "data": {
            "text/plain": [
              "<Figure size 720x504 with 1 Axes>"
            ],
            "image/png": "[encoded data removed]"
          },
          "metadata": {}
        }
      ]
    },
    {
      "cell_type": "markdown",
      "source": [
        "---\n",
        "<font color=green>Q20:</font>\n",
        "<br><font color='green'>\n",
        "Plot the confusion matrix using the following function\n",
        "</font>\n",
        "\n",
        "---"
      ],
      "metadata": {
        "id": "aWZZOZywzQVk"
      }
    },
    {
      "cell_type": "code",
      "source": [
        "# Import Modules\n",
        "from sklearn.metrics import confusion_matrix\n",
        "import seaborn as sns\n",
        "\n",
        "\n",
        "# Functin to plot the confusion matrix\n",
        "def plot_confusion_matrix(y_test, y_hat):\n",
        "  fig = plt.figure(figsize=(10, 8))\n",
        "  g = sns.heatmap(confusion_matrix(y_test, y_hat),\n",
        "              annot=True,\n",
        "              fmt=\"0.0f\")\n",
        "  g.set_xlabel(\"Predicted\")\n",
        "  g.set_ylabel(\"Actual\")\n",
        "  g.set_title(\"Confusion Matrix on the test set\")\n",
        "  plt.show()"
      ],
      "metadata": {
        "id": "q9L7npbnzQd9"
      },
      "execution_count": null,
      "outputs": []
    },
    {
      "cell_type": "code",
      "source": [
        "# Get the prediction in the (N, K) shape\n",
        "prediction = model.predict(test_data)\n",
        "\n",
        "# Transform it into the shape (N,)\n",
        "y_pred = np.argmax(prediction, axis=1)\n",
        "y_true = np.argmax(test_labels, axis=1)\n",
        "\n",
        "# Plot the confusion matrix\n",
        "plot_confusion_matrix(y_true, y_pred)\n"
      ],
      "metadata": {
        "id": "-yuJoY9VznfI",
        "colab": {
          "base_uri": "https://localhost:8080/",
          "height": 513
        },
        "outputId": "d40c1425-1821-4130-8691-d7645c6a6df2"
      },
      "execution_count": null,
      "outputs": [
        {
          "output_type": "display_data",
          "data": {
            "text/plain": [
              "<Figure size 720x576 with 2 Axes>"
            ],
            "image/png": "[encoded data removed]"
          },
          "metadata": {}
        }
      ]
    },
    {
      "cell_type": "markdown",
      "metadata": {
        "id": "93er6gDBMdyt"
      },
      "source": [
        "## 3.2 Training the embedding matrix"
      ]
    },
    {
      "cell_type": "markdown",
      "source": [
        "---\n",
        "<font color=green>Q20:</font>\n",
        "<br><font color='green'>\n",
        "Create the following model\n",
        "</font>\n",
        "\n",
        "---"
      ],
      "metadata": {
        "id": "ZhYLoV87woFq"
      }
    },
    {
      "cell_type": "markdown",
      "source": [
        "<center><img width=“700\" src = \"https://drive.google.com/uc?export=view&id=1FXc2jWEuuodqtu68Qeac33_V6J-mE__n\"></center>"
      ],
      "metadata": {
        "id": "BznOq1_K0aPm"
      }
    },
    {
      "cell_type": "code",
      "metadata": {
        "id": "amGqxySpd31E",
        "colab": {
          "base_uri": "https://localhost:8080/"
        },
        "outputId": "ceb5155c-2286-4901-a5f0-5bf25e3cec4d"
      },
      "source": [
        "from tensorflow.keras.models import Sequential\n",
        "from tensorflow.keras.layers import Embedding, Bidirectional, LSTM, Dense \n",
        "\n",
        "# Set hyperparameters\n",
        "d_1 = 32 # output dimension of the first LSTM layer\n",
        "d_2 = 32 # output dimension of the second LSTM layer\n",
        "K = 5 # Output dimension of the last layer \n",
        "\n",
        "\n",
        "model = Sequential()\n",
        "model.add(Embedding(V, D, input_length=T))\n",
        "model.add(Bidirectional(LSTM(d_1, return_sequences = False)))\n",
        "model.add(Dense(K, activation = \"softmax\"))\n",
        "model.summary(line_length=150)"
      ],
      "execution_count": null,
      "outputs": [
        {
          "output_type": "stream",
          "name": "stdout",
          "text": [
            "Model: \"sequential\"\n",
            "______________________________________________________________________________________________________________________________________________________\n",
            " Layer (type)                                                      Output Shape                                                Param #                \n",
            "======================================================================================================================================================\n",
            " embedding_1 (Embedding)                                           (None, 300, 200)                                            2000000                \n",
            "                                                                                                                                                      \n",
            " bidirectional (Bidirectional)                                     (None, 64)                                                  59648                  \n",
            "                                                                                                                                                      \n",
            " dense (Dense)                                                     (None, 5)                                                   325                    \n",
            "                                                                                                                                                      \n",
            "======================================================================================================================================================\n",
            "Total params: 2,059,973\n",
            "Trainable params: 2,059,973\n",
            "Non-trainable params: 0\n",
            "______________________________________________________________________________________________________________________________________________________\n"
          ]
        }
      ]
    },
    {
      "cell_type": "markdown",
      "source": [
        "---\n",
        "<font color=green>Q21:</font>\n",
        "<br><font color='green'>\n",
        "Fit your new model to the training data. Plot the tranining and validation loss,accuracy, precision and recall. Then, evaluate your model on the test data\n",
        "</font>\n",
        "\n",
        "---"
      ],
      "metadata": {
        "id": "N4gzLre6wpEB"
      }
    },
    {
      "cell_type": "code",
      "metadata": {
        "id": "QOnhVyj6Vj5G",
        "colab": {
          "base_uri": "https://localhost:8080/"
        },
        "outputId": "401fef79-f09a-47ff-eb21-694a680cab85"
      },
      "source": [
        "model.compile(optimizer=\"adam\",\n",
        "              loss = \"categorical_crossentropy\",\n",
        "              metrics = METRICS)\n",
        "\n",
        "history = model.fit(train_data, \n",
        "                    train_labels, \n",
        "                    epochs = 200, \n",
        "                    batch_size=256, \n",
        "                    callbacks = callbacks_list,\n",
        "                    validation_split=.2)"
      ],
      "execution_count": null,
      "outputs": [
        {
          "output_type": "stream",
          "name": "stdout",
          "text": [
            "Epoch 1/200\n",
            "6/6 [==============================] - 12s 2s/step - loss: 1.5973 - accuracy: 0.2753 - precision: 0.9461 - recall: 0.2253 - val_loss: 1.5845 - val_accuracy: 0.4045 - val_precision: 0.0000e+00 - val_recall: 0.0000e+00 - lr: 0.0010\n",
            "Epoch 2/200\n",
            "6/6 [==============================] - 8s 1s/step - loss: 1.5616 - accuracy: 0.4712 - precision: 0.0000e+00 - recall: 0.0000e+00 - val_loss: 1.5614 - val_accuracy: 0.4466 - val_precision: 0.0000e+00 - val_recall: 0.0000e+00 - lr: 0.0010\n",
            "Epoch 3/200\n",
            "6/6 [==============================] - 8s 1s/step - loss: 1.5099 - accuracy: 0.5147 - precision: 0.0000e+00 - recall: 0.0000e+00 - val_loss: 1.5142 - val_accuracy: 0.4860 - val_precision: 0.0000e+00 - val_recall: 0.0000e+00 - lr: 0.0010\n",
            "Epoch 4/200\n",
            "6/6 [==============================] - 8s 1s/step - loss: 1.4139 - accuracy: 0.6440 - precision: 0.0000e+00 - recall: 0.0000e+00 - val_loss: 1.4135 - val_accuracy: 0.6236 - val_precision: 0.0000e+00 - val_recall: 0.0000e+00 - lr: 0.0010\n",
            "Epoch 5/200\n",
            "6/6 [==============================] - 8s 1s/step - loss: 1.2139 - accuracy: 0.7725 - precision: 1.0000 - recall: 0.0014 - val_loss: 1.1773 - val_accuracy: 0.6742 - val_precision: 0.0000e+00 - val_recall: 0.0000e+00 - lr: 0.0010\n",
            "Epoch 6/200\n",
            "6/6 [==============================] - 8s 1s/step - loss: 1.0029 - accuracy: 0.7851 - precision: 1.0000 - recall: 0.1482 - val_loss: 1.0319 - val_accuracy: 0.7500 - val_precision: 1.0000 - val_recall: 0.1208 - lr: 0.0010\n",
            "Epoch 7/200\n",
            "6/6 [==============================] - 8s 1s/step - loss: 0.8275 - accuracy: 0.8539 - precision: 1.0000 - recall: 0.4228 - val_loss: 0.8794 - val_accuracy: 0.7921 - val_precision: 0.9679 - val_recall: 0.4242 - lr: 0.0010\n",
            "Epoch 8/200\n",
            "6/6 [==============================] - 8s 1s/step - loss: 0.6669 - accuracy: 0.9206 - precision: 0.9928 - recall: 0.5850 - val_loss: 0.7509 - val_accuracy: 0.8511 - val_precision: 0.9461 - val_recall: 0.5421 - lr: 0.0010\n",
            "Epoch 9/200\n",
            "6/6 [==============================] - 8s 1s/step - loss: 0.5362 - accuracy: 0.9705 - precision: 0.9923 - recall: 0.7275 - val_loss: 0.6578 - val_accuracy: 0.8848 - val_precision: 0.9585 - val_recall: 0.6489 - lr: 0.0010\n",
            "Epoch 10/200\n",
            "6/6 [==============================] - 8s 1s/step - loss: 0.4224 - accuracy: 0.9867 - precision: 0.9951 - recall: 0.8588 - val_loss: 0.5997 - val_accuracy: 0.8904 - val_precision: 0.9439 - val_recall: 0.7556 - lr: 0.0010\n",
            "Epoch 11/200\n",
            "6/6 [==============================] - 8s 1s/step - loss: 0.3283 - accuracy: 0.9944 - precision: 0.9986 - recall: 0.9719 - val_loss: 0.5150 - val_accuracy: 0.9045 - val_precision: 0.9421 - val_recall: 0.8230 - lr: 0.0010\n",
            "Epoch 12/200\n",
            "6/6 [==============================] - 8s 1s/step - loss: 0.2559 - accuracy: 0.9965 - precision: 0.9993 - recall: 0.9909 - val_loss: 0.4746 - val_accuracy: 0.9157 - val_precision: 0.9360 - val_recall: 0.8624 - lr: 0.0010\n",
            "Epoch 13/200\n",
            "6/6 [==============================] - 8s 1s/step - loss: 0.2245 - accuracy: 0.9860 - precision: 0.9936 - recall: 0.9810 - val_loss: 0.4423 - val_accuracy: 0.9213 - val_precision: 0.9382 - val_recall: 0.8961 - lr: 0.0010\n",
            "Epoch 14/200\n",
            "6/6 [==============================] - 8s 1s/step - loss: 0.1709 - accuracy: 0.9979 - precision: 0.9986 - recall: 0.9965 - val_loss: 0.3778 - val_accuracy: 0.9298 - val_precision: 0.9615 - val_recall: 0.9129 - lr: 0.0010\n",
            "Epoch 15/200\n",
            "6/6 [==============================] - 8s 1s/step - loss: 0.1418 - accuracy: 0.9986 - precision: 0.9993 - recall: 0.9979 - val_loss: 0.3665 - val_accuracy: 0.9326 - val_precision: 0.9481 - val_recall: 0.9242 - lr: 0.0010\n",
            "Epoch 16/200\n",
            "6/6 [==============================] - 8s 1s/step - loss: 0.1194 - accuracy: 1.0000 - precision: 1.0000 - recall: 1.0000 - val_loss: 0.3536 - val_accuracy: 0.9213 - val_precision: 0.9395 - val_recall: 0.9157 - lr: 0.0010\n",
            "Epoch 17/200\n",
            "6/6 [==============================] - 8s 1s/step - loss: 0.1018 - accuracy: 1.0000 - precision: 1.0000 - recall: 1.0000 - val_loss: 0.3424 - val_accuracy: 0.9213 - val_precision: 0.9424 - val_recall: 0.9185 - lr: 0.0010\n",
            "Epoch 18/200\n",
            "6/6 [==============================] - 8s 1s/step - loss: 0.0895 - accuracy: 0.9986 - precision: 0.9993 - recall: 0.9986 - val_loss: 0.3270 - val_accuracy: 0.9326 - val_precision: 0.9484 - val_recall: 0.9298 - lr: 0.0010\n",
            "Epoch 19/200\n",
            "6/6 [==============================] - 8s 1s/step - loss: 0.0854 - accuracy: 0.9979 - precision: 0.9979 - recall: 0.9972 - val_loss: 0.4086 - val_accuracy: 0.8933 - val_precision: 0.9208 - val_recall: 0.8820 - lr: 0.0010\n",
            "Epoch 20/200\n",
            "6/6 [==============================] - 8s 1s/step - loss: 0.0979 - accuracy: 0.9888 - precision: 0.9929 - recall: 0.9867 - val_loss: 0.3559 - val_accuracy: 0.9073 - val_precision: 0.9405 - val_recall: 0.8876 - lr: 0.0010\n",
            "Epoch 21/200\n",
            "6/6 [==============================] - 8s 1s/step - loss: 0.0699 - accuracy: 0.9979 - precision: 0.9993 - recall: 0.9972 - val_loss: 0.3249 - val_accuracy: 0.9185 - val_precision: 0.9368 - val_recall: 0.9157 - lr: 0.0010\n",
            "Epoch 22/200\n",
            "6/6 [==============================] - ETA: 0s - loss: 0.0597 - accuracy: 0.9986 - precision: 0.9986 - recall: 0.9986"
          ]
        },
        {
          "output_type": "stream",
          "name": "stderr",
          "text": [
            "WARNING:absl:Found untraced functions such as lstm_cell_5_layer_call_fn, lstm_cell_5_layer_call_and_return_conditional_losses, lstm_cell_6_layer_call_fn, lstm_cell_6_layer_call_and_return_conditional_losses while saving (showing 4 of 4). These functions will not be directly callable after loading.\n"
          ]
        },
        {
          "output_type": "stream",
          "name": "stdout",
          "text": [
            "INFO:tensorflow:Assets written to: /content/gdrive/MyDrive/Colab Notebooks/Session_2022/Programming_Session_7/model/assets\n"
          ]
        },
        {
          "output_type": "stream",
          "name": "stderr",
          "text": [
            "INFO:tensorflow:Assets written to: /content/gdrive/MyDrive/Colab Notebooks/Session_2022/Programming_Session_7/model/assets\n",
            "WARNING:absl:<keras.layers.recurrent.LSTMCell object at 0x7fa28fa1c550> has the same name 'LSTMCell' as a built-in Keras object. Consider renaming <class 'keras.layers.recurrent.LSTMCell'> to avoid naming conflicts when loading with `tf.keras.models.load_model`. If renaming is not possible, pass the object in the `custom_objects` parameter of the load function.\n",
            "WARNING:absl:<keras.layers.recurrent.LSTMCell object at 0x7fa28f46fe10> has the same name 'LSTMCell' as a built-in Keras object. Consider renaming <class 'keras.layers.recurrent.LSTMCell'> to avoid naming conflicts when loading with `tf.keras.models.load_model`. If renaming is not possible, pass the object in the `custom_objects` parameter of the load function.\n"
          ]
        },
        {
          "output_type": "stream",
          "name": "stdout",
          "text": [
            "\b\b\b\b\b\b\b\b\b\b\b\b\b\b\b\b\b\b\b\b\b\b\b\b\b\b\b\b\b\b\b\b\b\b\b\b\b\b\b\b\b\b\b\b\b\b\b\b\b\b\b\b\b\b\b\b\b\b\b\b\b\b\b\b\b\b\b\b\b\b\b\b\b\b\b\b\b\b\b\b\b\b\b\b\b\b\b\b\b\b\b\b\b\b\b\b\b\b\b\b\b\b\b\b\b\b\b\b\b\b\b\b\b\b\b\b\b\r6/6 [==============================] - 19s 4s/step - loss: 0.0597 - accuracy: 0.9986 - precision: 0.9986 - recall: 0.9986 - val_loss: 0.2602 - val_accuracy: 0.9410 - val_precision: 0.9513 - val_recall: 0.9326 - lr: 0.0010\n",
            "Epoch 23/200\n",
            "6/6 [==============================] - ETA: 0s - loss: 0.0529 - accuracy: 1.0000 - precision: 1.0000 - recall: 1.0000"
          ]
        },
        {
          "output_type": "stream",
          "name": "stderr",
          "text": [
            "WARNING:absl:Found untraced functions such as lstm_cell_5_layer_call_fn, lstm_cell_5_layer_call_and_return_conditional_losses, lstm_cell_6_layer_call_fn, lstm_cell_6_layer_call_and_return_conditional_losses while saving (showing 4 of 4). These functions will not be directly callable after loading.\n"
          ]
        },
        {
          "output_type": "stream",
          "name": "stdout",
          "text": [
            "INFO:tensorflow:Assets written to: /content/gdrive/MyDrive/Colab Notebooks/Session_2022/Programming_Session_7/model/assets\n"
          ]
        },
        {
          "output_type": "stream",
          "name": "stderr",
          "text": [
            "INFO:tensorflow:Assets written to: /content/gdrive/MyDrive/Colab Notebooks/Session_2022/Programming_Session_7/model/assets\n",
            "WARNING:absl:<keras.layers.recurrent.LSTMCell object at 0x7fa28fa1c550> has the same name 'LSTMCell' as a built-in Keras object. Consider renaming <class 'keras.layers.recurrent.LSTMCell'> to avoid naming conflicts when loading with `tf.keras.models.load_model`. If renaming is not possible, pass the object in the `custom_objects` parameter of the load function.\n",
            "WARNING:absl:<keras.layers.recurrent.LSTMCell object at 0x7fa28f46fe10> has the same name 'LSTMCell' as a built-in Keras object. Consider renaming <class 'keras.layers.recurrent.LSTMCell'> to avoid naming conflicts when loading with `tf.keras.models.load_model`. If renaming is not possible, pass the object in the `custom_objects` parameter of the load function.\n"
          ]
        },
        {
          "output_type": "stream",
          "name": "stdout",
          "text": [
            "\b\b\b\b\b\b\b\b\b\b\b\b\b\b\b\b\b\b\b\b\b\b\b\b\b\b\b\b\b\b\b\b\b\b\b\b\b\b\b\b\b\b\b\b\b\b\b\b\b\b\b\b\b\b\b\b\b\b\b\b\b\b\b\b\b\b\b\b\b\b\b\b\b\b\b\b\b\b\b\b\b\b\b\b\b\b\b\b\b\b\b\b\b\b\b\b\b\b\b\b\b\b\b\b\b\b\b\b\b\b\b\b\b\b\b\b\b\r6/6 [==============================] - 20s 4s/step - loss: 0.0529 - accuracy: 1.0000 - precision: 1.0000 - recall: 1.0000 - val_loss: 0.2439 - val_accuracy: 0.9494 - val_precision: 0.9573 - val_recall: 0.9438 - lr: 0.0010\n",
            "Epoch 24/200\n",
            "6/6 [==============================] - ETA: 0s - loss: 0.0493 - accuracy: 0.9993 - precision: 1.0000 - recall: 0.9993"
          ]
        },
        {
          "output_type": "stream",
          "name": "stderr",
          "text": [
            "WARNING:absl:Found untraced functions such as lstm_cell_5_layer_call_fn, lstm_cell_5_layer_call_and_return_conditional_losses, lstm_cell_6_layer_call_fn, lstm_cell_6_layer_call_and_return_conditional_losses while saving (showing 4 of 4). These functions will not be directly callable after loading.\n"
          ]
        },
        {
          "output_type": "stream",
          "name": "stdout",
          "text": [
            "INFO:tensorflow:Assets written to: /content/gdrive/MyDrive/Colab Notebooks/Session_2022/Programming_Session_7/model/assets\n"
          ]
        },
        {
          "output_type": "stream",
          "name": "stderr",
          "text": [
            "INFO:tensorflow:Assets written to: /content/gdrive/MyDrive/Colab Notebooks/Session_2022/Programming_Session_7/model/assets\n",
            "WARNING:absl:<keras.layers.recurrent.LSTMCell object at 0x7fa28fa1c550> has the same name 'LSTMCell' as a built-in Keras object. Consider renaming <class 'keras.layers.recurrent.LSTMCell'> to avoid naming conflicts when loading with `tf.keras.models.load_model`. If renaming is not possible, pass the object in the `custom_objects` parameter of the load function.\n",
            "WARNING:absl:<keras.layers.recurrent.LSTMCell object at 0x7fa28f46fe10> has the same name 'LSTMCell' as a built-in Keras object. Consider renaming <class 'keras.layers.recurrent.LSTMCell'> to avoid naming conflicts when loading with `tf.keras.models.load_model`. If renaming is not possible, pass the object in the `custom_objects` parameter of the load function.\n"
          ]
        },
        {
          "output_type": "stream",
          "name": "stdout",
          "text": [
            "\b\b\b\b\b\b\b\b\b\b\b\b\b\b\b\b\b\b\b\b\b\b\b\b\b\b\b\b\b\b\b\b\b\b\b\b\b\b\b\b\b\b\b\b\b\b\b\b\b\b\b\b\b\b\b\b\b\b\b\b\b\b\b\b\b\b\b\b\b\b\b\b\b\b\b\b\b\b\b\b\b\b\b\b\b\b\b\b\b\b\b\b\b\b\b\b\b\b\b\b\b\b\b\b\b\b\b\b\b\b\b\b\b\b\b\b\b\r6/6 [==============================] - 20s 4s/step - loss: 0.0493 - accuracy: 0.9993 - precision: 1.0000 - recall: 0.9993 - val_loss: 0.2417 - val_accuracy: 0.9522 - val_precision: 0.9547 - val_recall: 0.9466 - lr: 0.0010\n",
            "Epoch 25/200\n",
            "6/6 [==============================] - ETA: 0s - loss: 0.0450 - accuracy: 0.9993 - precision: 1.0000 - recall: 0.9993"
          ]
        },
        {
          "output_type": "stream",
          "name": "stderr",
          "text": [
            "WARNING:absl:Found untraced functions such as lstm_cell_5_layer_call_fn, lstm_cell_5_layer_call_and_return_conditional_losses, lstm_cell_6_layer_call_fn, lstm_cell_6_layer_call_and_return_conditional_losses while saving (showing 4 of 4). These functions will not be directly callable after loading.\n"
          ]
        },
        {
          "output_type": "stream",
          "name": "stdout",
          "text": [
            "INFO:tensorflow:Assets written to: /content/gdrive/MyDrive/Colab Notebooks/Session_2022/Programming_Session_7/model/assets\n"
          ]
        },
        {
          "output_type": "stream",
          "name": "stderr",
          "text": [
            "INFO:tensorflow:Assets written to: /content/gdrive/MyDrive/Colab Notebooks/Session_2022/Programming_Session_7/model/assets\n",
            "WARNING:absl:<keras.layers.recurrent.LSTMCell object at 0x7fa28fa1c550> has the same name 'LSTMCell' as a built-in Keras object. Consider renaming <class 'keras.layers.recurrent.LSTMCell'> to avoid naming conflicts when loading with `tf.keras.models.load_model`. If renaming is not possible, pass the object in the `custom_objects` parameter of the load function.\n",
            "WARNING:absl:<keras.layers.recurrent.LSTMCell object at 0x7fa28f46fe10> has the same name 'LSTMCell' as a built-in Keras object. Consider renaming <class 'keras.layers.recurrent.LSTMCell'> to avoid naming conflicts when loading with `tf.keras.models.load_model`. If renaming is not possible, pass the object in the `custom_objects` parameter of the load function.\n"
          ]
        },
        {
          "output_type": "stream",
          "name": "stdout",
          "text": [
            "\b\b\b\b\b\b\b\b\b\b\b\b\b\b\b\b\b\b\b\b\b\b\b\b\b\b\b\b\b\b\b\b\b\b\b\b\b\b\b\b\b\b\b\b\b\b\b\b\b\b\b\b\b\b\b\b\b\b\b\b\b\b\b\b\b\b\b\b\b\b\b\b\b\b\b\b\b\b\b\b\b\b\b\b\b\b\b\b\b\b\b\b\b\b\b\b\b\b\b\b\b\b\b\b\b\b\b\b\b\b\b\b\b\b\b\b\b\r6/6 [==============================] - 19s 4s/step - loss: 0.0450 - accuracy: 0.9993 - precision: 1.0000 - recall: 0.9993 - val_loss: 0.2351 - val_accuracy: 0.9522 - val_precision: 0.9547 - val_recall: 0.9466 - lr: 0.0010\n",
            "Epoch 26/200\n",
            "6/6 [==============================] - ETA: 0s - loss: 0.0410 - accuracy: 1.0000 - precision: 1.0000 - recall: 1.0000"
          ]
        },
        {
          "output_type": "stream",
          "name": "stderr",
          "text": [
            "WARNING:absl:Found untraced functions such as lstm_cell_5_layer_call_fn, lstm_cell_5_layer_call_and_return_conditional_losses, lstm_cell_6_layer_call_fn, lstm_cell_6_layer_call_and_return_conditional_losses while saving (showing 4 of 4). These functions will not be directly callable after loading.\n"
          ]
        },
        {
          "output_type": "stream",
          "name": "stdout",
          "text": [
            "INFO:tensorflow:Assets written to: /content/gdrive/MyDrive/Colab Notebooks/Session_2022/Programming_Session_7/model/assets\n"
          ]
        },
        {
          "output_type": "stream",
          "name": "stderr",
          "text": [
            "INFO:tensorflow:Assets written to: /content/gdrive/MyDrive/Colab Notebooks/Session_2022/Programming_Session_7/model/assets\n",
            "WARNING:absl:<keras.layers.recurrent.LSTMCell object at 0x7fa28fa1c550> has the same name 'LSTMCell' as a built-in Keras object. Consider renaming <class 'keras.layers.recurrent.LSTMCell'> to avoid naming conflicts when loading with `tf.keras.models.load_model`. If renaming is not possible, pass the object in the `custom_objects` parameter of the load function.\n",
            "WARNING:absl:<keras.layers.recurrent.LSTMCell object at 0x7fa28f46fe10> has the same name 'LSTMCell' as a built-in Keras object. Consider renaming <class 'keras.layers.recurrent.LSTMCell'> to avoid naming conflicts when loading with `tf.keras.models.load_model`. If renaming is not possible, pass the object in the `custom_objects` parameter of the load function.\n"
          ]
        },
        {
          "output_type": "stream",
          "name": "stdout",
          "text": [
            "\b\b\b\b\b\b\b\b\b\b\b\b\b\b\b\b\b\b\b\b\b\b\b\b\b\b\b\b\b\b\b\b\b\b\b\b\b\b\b\b\b\b\b\b\b\b\b\b\b\b\b\b\b\b\b\b\b\b\b\b\b\b\b\b\b\b\b\b\b\b\b\b\b\b\b\b\b\b\b\b\b\b\b\b\b\b\b\b\b\b\b\b\b\b\b\b\b\b\b\b\b\b\b\b\b\b\b\b\b\b\b\b\b\b\b\b\b\r6/6 [==============================] - 20s 4s/step - loss: 0.0410 - accuracy: 1.0000 - precision: 1.0000 - recall: 1.0000 - val_loss: 0.2308 - val_accuracy: 0.9522 - val_precision: 0.9520 - val_recall: 0.9466 - lr: 0.0010\n",
            "Epoch 27/200\n",
            "6/6 [==============================] - ETA: 0s - loss: 0.0376 - accuracy: 1.0000 - precision: 1.0000 - recall: 1.0000"
          ]
        },
        {
          "output_type": "stream",
          "name": "stderr",
          "text": [
            "WARNING:absl:Found untraced functions such as lstm_cell_5_layer_call_fn, lstm_cell_5_layer_call_and_return_conditional_losses, lstm_cell_6_layer_call_fn, lstm_cell_6_layer_call_and_return_conditional_losses while saving (showing 4 of 4). These functions will not be directly callable after loading.\n"
          ]
        },
        {
          "output_type": "stream",
          "name": "stdout",
          "text": [
            "INFO:tensorflow:Assets written to: /content/gdrive/MyDrive/Colab Notebooks/Session_2022/Programming_Session_7/model/assets\n"
          ]
        },
        {
          "output_type": "stream",
          "name": "stderr",
          "text": [
            "INFO:tensorflow:Assets written to: /content/gdrive/MyDrive/Colab Notebooks/Session_2022/Programming_Session_7/model/assets\n",
            "WARNING:absl:<keras.layers.recurrent.LSTMCell object at 0x7fa28fa1c550> has the same name 'LSTMCell' as a built-in Keras object. Consider renaming <class 'keras.layers.recurrent.LSTMCell'> to avoid naming conflicts when loading with `tf.keras.models.load_model`. If renaming is not possible, pass the object in the `custom_objects` parameter of the load function.\n",
            "WARNING:absl:<keras.layers.recurrent.LSTMCell object at 0x7fa28f46fe10> has the same name 'LSTMCell' as a built-in Keras object. Consider renaming <class 'keras.layers.recurrent.LSTMCell'> to avoid naming conflicts when loading with `tf.keras.models.load_model`. If renaming is not possible, pass the object in the `custom_objects` parameter of the load function.\n"
          ]
        },
        {
          "output_type": "stream",
          "name": "stdout",
          "text": [
            "\b\b\b\b\b\b\b\b\b\b\b\b\b\b\b\b\b\b\b\b\b\b\b\b\b\b\b\b\b\b\b\b\b\b\b\b\b\b\b\b\b\b\b\b\b\b\b\b\b\b\b\b\b\b\b\b\b\b\b\b\b\b\b\b\b\b\b\b\b\b\b\b\b\b\b\b\b\b\b\b\b\b\b\b\b\b\b\b\b\b\b\b\b\b\b\b\b\b\b\b\b\b\b\b\b\b\b\b\b\b\b\b\b\b\b\b\b\r6/6 [==============================] - 20s 4s/step - loss: 0.0376 - accuracy: 1.0000 - precision: 1.0000 - recall: 1.0000 - val_loss: 0.2193 - val_accuracy: 0.9551 - val_precision: 0.9549 - val_recall: 0.9522 - lr: 0.0010\n",
            "Epoch 28/200\n",
            "6/6 [==============================] - 8s 1s/step - loss: 0.0347 - accuracy: 1.0000 - precision: 1.0000 - recall: 1.0000 - val_loss: 0.2452 - val_accuracy: 0.9494 - val_precision: 0.9521 - val_recall: 0.9494 - lr: 0.0010\n",
            "Epoch 29/200\n",
            "6/6 [==============================] - 8s 1s/step - loss: 0.0340 - accuracy: 0.9993 - precision: 1.0000 - recall: 0.9993 - val_loss: 0.2651 - val_accuracy: 0.9410 - val_precision: 0.9433 - val_recall: 0.9354 - lr: 0.0010\n",
            "Epoch 30/200\n",
            "6/6 [==============================] - 8s 1s/step - loss: 0.0303 - accuracy: 1.0000 - precision: 1.0000 - recall: 1.0000 - val_loss: 0.2751 - val_accuracy: 0.9270 - val_precision: 0.9429 - val_recall: 0.9270 - lr: 0.0010\n",
            "Epoch 31/200\n",
            "6/6 [==============================] - 8s 1s/step - loss: 0.0279 - accuracy: 1.0000 - precision: 1.0000 - recall: 1.0000 - val_loss: 0.2754 - val_accuracy: 0.9213 - val_precision: 0.9371 - val_recall: 0.9213 - lr: 0.0010\n",
            "Epoch 32/200\n",
            "6/6 [==============================] - 8s 1s/step - loss: 0.0248 - accuracy: 1.0000 - precision: 1.0000 - recall: 1.0000 - val_loss: 0.2439 - val_accuracy: 0.9213 - val_precision: 0.9397 - val_recall: 0.9185 - lr: 0.0010\n",
            "Epoch 33/200\n",
            "6/6 [==============================] - 8s 1s/step - loss: 0.0207 - accuracy: 1.0000 - precision: 1.0000 - recall: 1.0000 - val_loss: 0.2508 - val_accuracy: 0.9270 - val_precision: 0.9398 - val_recall: 0.9213 - lr: 0.0010\n",
            "Epoch 34/200\n",
            "6/6 [==============================] - 8s 1s/step - loss: 0.0183 - accuracy: 1.0000 - precision: 1.0000 - recall: 1.0000 - val_loss: 0.2545 - val_accuracy: 0.9270 - val_precision: 0.9451 - val_recall: 0.9185 - lr: 0.0010\n",
            "Epoch 35/200\n",
            "6/6 [==============================] - 8s 1s/step - loss: 0.0166 - accuracy: 1.0000 - precision: 1.0000 - recall: 1.0000 - val_loss: 0.2538 - val_accuracy: 0.9242 - val_precision: 0.9452 - val_recall: 0.9213 - lr: 0.0010\n",
            "Epoch 36/200\n",
            "6/6 [==============================] - 8s 1s/step - loss: 0.0153 - accuracy: 1.0000 - precision: 1.0000 - recall: 1.0000 - val_loss: 0.2502 - val_accuracy: 0.9270 - val_precision: 0.9456 - val_recall: 0.9270 - lr: 0.0010\n",
            "Epoch 37/200\n",
            "6/6 [==============================] - 8s 1s/step - loss: 0.0142 - accuracy: 1.0000 - precision: 1.0000 - recall: 1.0000 - val_loss: 0.2518 - val_accuracy: 0.9326 - val_precision: 0.9456 - val_recall: 0.9270 - lr: 0.0010\n"
          ]
        }
      ]
    },
    {
      "cell_type": "code",
      "metadata": {
        "id": "cdKj22jKd3vU",
        "colab": {
          "base_uri": "https://localhost:8080/"
        },
        "outputId": "4d1c5a85-51bc-486b-8f07-ec122eac4967"
      },
      "source": [
        "# Evaluate the model \n",
        "model.evaluate(test_data, test_labels)"
      ],
      "execution_count": null,
      "outputs": [
        {
          "output_type": "stream",
          "name": "stdout",
          "text": [
            "14/14 [==============================] - 1s 64ms/step - loss: 0.2122 - accuracy: 0.9506 - precision: 0.9548 - recall: 0.9483\n"
          ]
        },
        {
          "output_type": "execute_result",
          "data": {
            "text/plain": [
              "[0.2121778279542923,\n",
              " 0.9505618214607239,\n",
              " 0.9547511339187622,\n",
              " 0.9483146071434021]"
            ]
          },
          "metadata": {},
          "execution_count": 45
        }
      ]
    },
    {
      "cell_type": "code",
      "metadata": {
        "id": "tDsPJJFhd3qK",
        "colab": {
          "base_uri": "https://localhost:8080/",
          "height": 458
        },
        "outputId": "38aca5e5-1632-4b77-9968-83e2fc939776"
      },
      "source": [
        "figure = plt.figure(figsize = (10, 7))\n",
        "plt.plot(history.history[\"loss\"], label = \"Train_loss\")\n",
        "plt.plot(history.history[\"val_loss\"], label = \"Validation_loss\")\n",
        "plt.xlabel(\"epochs\")\n",
        "plt.ylabel(\"Loss\")\n",
        "plt.title(\"Train vs Validation Loss\")\n",
        "plt.legend()\n",
        "plt.show()"
      ],
      "execution_count": null,
      "outputs": [
        {
          "output_type": "display_data",
          "data": {
            "text/plain": [
              "<Figure size 720x504 with 1 Axes>"
            ],
            "image/png": "[encoded data removed]"
          },
          "metadata": {}
        }
      ]
    },
    {
      "cell_type": "code",
      "source": [
        "figure = plt.figure(figsize = (10, 7))\n",
        "plt.plot(history.history[\"accuracy\"], label = \"Train_accuracy\")\n",
        "plt.plot(history.history[\"val_accuracy\"], label = \"Validation_accuracy\")\n",
        "plt.xlabel(\"epochs\")\n",
        "plt.ylabel(\"Accuracy\")\n",
        "plt.title(\"Train vs Validation Accurcy\")\n",
        "plt.legend()\n",
        "plt.show()"
      ],
      "metadata": {
        "id": "NZCTNmy7y3Mi",
        "colab": {
          "base_uri": "https://localhost:8080/",
          "height": 458
        },
        "outputId": "d2f7734f-4b99-4346-9a18-9d7deb9f26d4"
      },
      "execution_count": null,
      "outputs": [
        {
          "output_type": "display_data",
          "data": {
            "text/plain": [
              "<Figure size 720x504 with 1 Axes>"
            ],
            "image/png": "[encoded data removed]"
          },
          "metadata": {}
        }
      ]
    },
    {
      "cell_type": "code",
      "source": [
        "figure = plt.figure(figsize = (10, 7))\n",
        "plt.plot(history.history[\"precision\"], label = \"Train_precision\")\n",
        "plt.plot(history.history[\"val_precision\"], label = \"Validation_precision\")\n",
        "plt.xlabel(\"epochs\")\n",
        "plt.ylabel(\"Precision\")\n",
        "plt.title(\"Train vs Validation Precision\")\n",
        "plt.legend()\n",
        "plt.show()"
      ],
      "metadata": {
        "id": "4lfeBU6Zy-tP",
        "colab": {
          "base_uri": "https://localhost:8080/",
          "height": 458
        },
        "outputId": "54aa70e5-a5d6-4ac4-bcf3-9be0cb10ac4b"
      },
      "execution_count": null,
      "outputs": [
        {
          "output_type": "display_data",
          "data": {
            "text/plain": [
              "<Figure size 720x504 with 1 Axes>"
            ],
            "image/png": "[encoded data removed]"
          },
          "metadata": {}
        }
      ]
    },
    {
      "cell_type": "code",
      "source": [
        "figure = plt.figure(figsize = (10, 7))\n",
        "plt.plot(history.history[\"recall\"], label = \"Train_recall\")\n",
        "plt.plot(history.history[\"val_recall\"], label = \"Validation_recall\")\n",
        "plt.xlabel(\"epochs\")\n",
        "plt.ylabel(\"Recall\")\n",
        "plt.title(\"Train vs Validation Recall\")\n",
        "plt.legend()\n",
        "plt.show()"
      ],
      "metadata": {
        "id": "VR5PrXH5zB5-",
        "colab": {
          "base_uri": "https://localhost:8080/",
          "height": 458
        },
        "outputId": "5b45c9c6-79b8-4511-9aa4-97498bbecbd8"
      },
      "execution_count": null,
      "outputs": [
        {
          "output_type": "display_data",
          "data": {
            "text/plain": [
              "<Figure size 720x504 with 1 Axes>"
            ],
            "image/png": "[encoded data removed]"
          },
          "metadata": {}
        }
      ]
    },
    {
      "cell_type": "markdown",
      "source": [
        "---\n",
        "<font color=green>Q21:</font>\n",
        "<br><font color='green'>\n",
        "Plot the confusion matrix\n",
        "</font>\n",
        "\n",
        "---"
      ],
      "metadata": {
        "id": "RbnihzVYz7Q-"
      }
    },
    {
      "cell_type": "code",
      "source": [
        "# Get the prediction in the (N, K) shape\n",
        "prediction = model.predict(test_data)\n",
        "\n",
        "# Transform it into the shape (N,)\n",
        "y_pred = np.argmax(prediction, axis=1)\n",
        "y_true = np.argmax(test_labels, axis=1)\n",
        "\n",
        "# Plot the confusion matrix\n",
        "plot_confusion_matrix(y_true, y_pred)"
      ],
      "metadata": {
        "id": "nv2Q7-uH0Bqf",
        "colab": {
          "base_uri": "https://localhost:8080/",
          "height": 513
        },
        "outputId": "6005563e-7418-422a-ec2f-e6c111eaf0fc"
      },
      "execution_count": null,
      "outputs": [
        {
          "output_type": "display_data",
          "data": {
            "text/plain": [
              "<Figure size 720x576 with 2 Axes>"
            ],
            "image/png": "[encoded data removed]"
          },
          "metadata": {}
        }
      ]
    },
    {
      "cell_type": "markdown",
      "metadata": {
        "id": "1xy8N9ZZUW44"
      },
      "source": [
        "# Wrap-up"
      ]
    },
    {
      "cell_type": "markdown",
      "source": [
        "<center><img width=“700\" src = \"https://drive.google.com/uc?export=view&id=1UZuzjojifkjy8BaLXejXYwGCjzL4DJua\"></center>"
      ],
      "metadata": {
        "id": "Q640L1as0cFL"
      }
    },
    {
      "cell_type": "markdown",
      "metadata": {
        "id": "QmLB8jSfZr99"
      },
      "source": [
        "## To go further..."
      ]
    },
    {
      "cell_type": "markdown",
      "source": [
        "As an exercise:\n",
        "\n",
        "* Change the hyperparameters and add some regularization to have the same performance on the training dataset and the test dataset.\n",
        "\n",
        "* Test different architectures on another dataset, stored in the folder \"data\": `news_headlines.csv`. This dataset contains the sentiments for financial news headlines from the perspective of a retail investor. Further details about the dataset can be found in: [Malo, P., Sinha, A., Takala, P., Korhonen, P. and Wallenius, J. (2014): “Good debt or bad debt: Detecting semantic orientations in economic texts.](https://arxiv.org/pdf/1307.5336.pdf) "
      ],
      "metadata": {
        "id": "yBX04kDZgE6W"
      }
    },
    {
      "cell_type": "markdown",
      "source": [
        "## Introducing the next lecture"
      ],
      "metadata": {
        "id": "Bl8L25-DhFsv"
      }
    },
    {
      "cell_type": "markdown",
      "metadata": {
        "id": "8DkZy6pNbgNB"
      },
      "source": [
        "LSTM layers can be used to tackle a wide range of problems:"
      ]
    },
    {
      "cell_type": "markdown",
      "source": [
        "<center><img width=“700\" src = \"https://drive.google.com/uc?export=view&id=1lB5wkfX66shxrymtQNfszXdKO8qjSD6h\"></center>"
      ],
      "metadata": {
        "id": "wlHc9ee-0wsd"
      }
    },
    {
      "cell_type": "markdown",
      "metadata": {
        "id": "xuso1F7qb-pY"
      },
      "source": [
        "For Many to many problems when the length of the input sequence is different from the length of the output sequence, we use the following architecture decribed in the following paper: [Sequence to Sequence Learning\n",
        "with Neural Networks](https://papers.nips.cc/paper/5346-sequence-to-sequence-learning-with-neural-networks.pdf):"
      ]
    },
    {
      "cell_type": "markdown",
      "source": [
        "<center><img width=“700\" src = \"https://drive.google.com/uc?export=view&id=1SASHthGKMVBvlU0CcXX5Rfg0WYny4fS2\"></center>"
      ],
      "metadata": {
        "id": "FOX1HmbB0wDT"
      }
    },
    {
      "cell_type": "markdown",
      "metadata": {
        "id": "vA5Ev9x9cen6"
      },
      "source": [
        "As seq2seq architecture don't handle very well long sentences, we use **Attention**, which aims at looking on a context in the input and weight it correctly to generate the output. \n",
        "\n",
        "A good reference for it : [Attention Is All You Need](https://arxiv.org/pdf/1706.03762v5.pdf)\n",
        "\n",
        "An example of application in Speech Recognition:"
      ]
    },
    {
      "cell_type": "markdown",
      "source": [
        "<center><img width=“700\" src = \"https://drive.google.com/uc?export=view&id=1QkTzmlvA2OVVwnM0x91bVDd7CeVH7PlL\"></center>:"
      ],
      "metadata": {
        "id": "HHQbeLgh0vOT"
      }
    },
    {
      "cell_type": "markdown",
      "metadata": {
        "id": "T_I-tM9dK3dY"
      },
      "source": [
        "### Contact\n",
        "\n",
        "If you have any question regarding this notebook, do not hesitate to contact: h.madmoun@imperial.ac.uk\n",
        "\n"
      ]
    }
  ]
}