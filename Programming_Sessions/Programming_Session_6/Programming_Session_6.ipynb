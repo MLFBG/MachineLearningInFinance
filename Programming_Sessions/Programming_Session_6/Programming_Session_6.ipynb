{
  "nbformat": 4,
  "nbformat_minor": 0,
  "metadata": {
    "colab": {
      "name": "Programming_Session_6.ipynb",
      "provenance": [],
      "collapsed_sections": []
    },
    "kernelspec": {
      "name": "python3",
      "display_name": "Python 3"
    },
    "language_info": {
      "name": "python"
    }
  },
  "cells": [
    {
      "cell_type": "markdown",
      "metadata": {
        "id": "48GJETGg1Aow"
      },
      "source": [
        "# **<center>Machine Learning and Finance </center>**\n",
        "\n",
        "\n",
        "## <center> Programming Session 6 - Introduction to Sequence Models - </center>\n",
        "\n",
        "<table class=\"tfo-notebook-buttons\" align=\"center\">\n",
        "  <td>\n",
        "    <a target=\"_blank\" href=\"https://mlfbg.github.io/MachineLearningInFinance/\">\n",
        "    <img src=\"https://drive.google.com/uc?export=view&id=1gmxxmwCR1WXK0IYtNqvE4QXFleznWqQO\" height=\"50\"/>\n",
        "    Course page</a>\n",
        "</td>\n",
        "  <td>\n",
        "    <a target=\"_blank\" href=\"https://colab.research.google.com/drive/1Hy_38E-T0uXgCZ4xIFRCCgpnVJmLeVEs?usp=sharing\"><img src=\"https://www.tensorflow.org/images/colab_logo_32px.png\" height=\"50\" />Run in Google Colab</a>\n",
        "  </td>\n",
        "</table>\n",
        "\n",
        "\n",
        "The Objective of this session is to create a sequence model to predict the labels of the MNIST dataset"
      ]
    },
    {
      "cell_type": "code",
      "metadata": {
        "id": "HS0eX7Kebja4",
        "colab": {
          "base_uri": "https://localhost:8080/"
        },
        "outputId": "7da36f9d-2304-46e6-c139-22de4dc344d5"
      },
      "source": [
        "# Access files from Google Drive\n",
        "from google.colab import drive \n",
        "drive.mount('/content/gdrive')"
      ],
      "execution_count": null,
      "outputs": [
        {
          "output_type": "stream",
          "name": "stdout",
          "text": [
            "Mounted at /content/gdrive\n"
          ]
        }
      ]
    },
    {
      "cell_type": "markdown",
      "metadata": {
        "id": "qngIFzSedTYR"
      },
      "source": [
        "# 1. Numpy implementation of a standard RNN"
      ]
    },
    {
      "cell_type": "markdown",
      "source": [
        "<center><img width=“700\" src = \"https://drive.google.com/uc?export=view&id=1vXVUvFIFDxYo_sdil2QPJWSCwXwZj27f\"></center>"
      ],
      "metadata": {
        "id": "2WHK0TFvgvHw"
      }
    },
    {
      "cell_type": "code",
      "metadata": {
        "id": "kCcWOvm03Zxu"
      },
      "source": [
        "# Import basic libraries\n",
        "import matplotlib.pyplot as plt # for plotting \n",
        "import numpy as np # for manipulating arrays\n",
        "import tensorflow as tf # for creating Neural Networks, we will use it to load data\n",
        "plt.style.use('dark_background') # to adapt the colors to a dark background\n",
        "from IPython.display import Image # for showing graphs from the lectures"
      ],
      "execution_count": null,
      "outputs": []
    },
    {
      "cell_type": "markdown",
      "metadata": {
        "id": "rMujAuUXxAUA"
      },
      "source": [
        "We have the following hyperparameters:"
      ]
    },
    {
      "cell_type": "code",
      "metadata": {
        "id": "xRb1hXjofx7W"
      },
      "source": [
        "N = 1000\n",
        "T = 100\n",
        "D = 50\n",
        "d = 20"
      ],
      "execution_count": null,
      "outputs": []
    },
    {
      "cell_type": "markdown",
      "source": [
        "---\n",
        "<font color=green>Q1:</font>\n",
        "<br><font color='green'>\n",
        "Generate some random data of shape (N, T, D).\n",
        "</font>\n",
        "\n",
        "---"
      ],
      "metadata": {
        "id": "RHFbv_RgfmB2"
      }
    },
    {
      "cell_type": "code",
      "metadata": {
        "id": "rt9mlOmDf5TU",
        "colab": {
          "base_uri": "https://localhost:8080/"
        },
        "outputId": "6fe69387-13bf-497b-ff9a-ce3d30108fd4"
      },
      "source": [
        ""
      ],
      "execution_count": null,
      "outputs": [
        {
          "output_type": "execute_result",
          "data": {
            "text/plain": [
              "(1000, 100, 50)"
            ]
          },
          "metadata": {},
          "execution_count": 4
        }
      ]
    },
    {
      "cell_type": "code",
      "metadata": {
        "id": "qaiEGS_2hKy-",
        "colab": {
          "base_uri": "https://localhost:8080/"
        },
        "outputId": "43275d07-29fa-4d1f-9608-9036269d3b46"
      },
      "source": [
        "data[0].shape"
      ],
      "execution_count": null,
      "outputs": [
        {
          "output_type": "execute_result",
          "data": {
            "text/plain": [
              "(100, 50)"
            ]
          },
          "metadata": {},
          "execution_count": 5
        }
      ]
    },
    {
      "cell_type": "code",
      "metadata": {
        "id": "K3siLQOsxSqR",
        "colab": {
          "base_uri": "https://localhost:8080/",
          "height": 235
        },
        "outputId": "a88100e0-a7b8-4780-8528-988452dd8d37"
      },
      "source": [
        "plt.imshow(data[0].T)"
      ],
      "execution_count": null,
      "outputs": [
        {
          "output_type": "execute_result",
          "data": {
            "text/plain": [
              "<matplotlib.image.AxesImage at 0x7f91a00268d0>"
            ]
          },
          "metadata": {},
          "execution_count": 6
        },
        {
          "output_type": "display_data",
          "data": {
            "text/plain": [
              "<Figure size 432x288 with 1 Axes>"
            ],
            "image/png": "[encoded data removed]"
          },
          "metadata": {}
        }
      ]
    },
    {
      "cell_type": "markdown",
      "source": [
        "---\n",
        "<font color=green>Q2:</font>\n",
        "<br><font color='green'>\n",
        "Create some random weights $W_{hh}, W_{xh}, b_h$\n",
        "</font>\n",
        "\n",
        "---"
      ],
      "metadata": {
        "id": "1A5iUerBfwgv"
      }
    },
    {
      "cell_type": "code",
      "metadata": {
        "id": "Zy1x3CqWyBn9"
      },
      "source": [
        ""
      ],
      "execution_count": null,
      "outputs": []
    },
    {
      "cell_type": "markdown",
      "source": [
        "---\n",
        "<font color=green>Q3:</font>\n",
        "<br><font color='green'>\n",
        "Generate the output tensor of shape (N, T, d) by creating the sequence $y_1, \\dots, y_T$ associated with each sequence $x_1, \\dots, x_T$. \n",
        "</font>\n",
        "\n",
        "---"
      ],
      "metadata": {
        "id": "ZvIG6LaufxHY"
      }
    },
    {
      "cell_type": "code",
      "metadata": {
        "id": "pO0LjXHdgnYZ"
      },
      "source": [
        ""
      ],
      "execution_count": null,
      "outputs": []
    },
    {
      "cell_type": "markdown",
      "source": [
        "---\n",
        "<font color=green>Q4:</font>\n",
        "<br><font color='green'>\n",
        "Plot the shape of the output:\n",
        "</font>\n",
        "\n",
        "---"
      ],
      "metadata": {
        "id": "7vD9Fa0Rfx2T"
      }
    },
    {
      "cell_type": "code",
      "metadata": {
        "id": "YfoHYcIykko8",
        "colab": {
          "base_uri": "https://localhost:8080/"
        },
        "outputId": "53baee7a-122b-4363-d867-213b62566f93"
      },
      "source": [
        ""
      ],
      "execution_count": null,
      "outputs": [
        {
          "output_type": "execute_result",
          "data": {
            "text/plain": [
              "(1000, 100, 20)"
            ]
          },
          "metadata": {},
          "execution_count": 9
        }
      ]
    },
    {
      "cell_type": "markdown",
      "metadata": {
        "id": "COv33yRDvNuV"
      },
      "source": [
        "# 2. MNIST Classification using LSTMs"
      ]
    },
    {
      "cell_type": "markdown",
      "source": [
        "<center><img width=“700\" src = \"https://drive.google.com/uc?export=view&id=1KNpBc60u1QCopXygOff0tLkQNkyXuSmr\"></center>"
      ],
      "metadata": {
        "id": "IYCOGECGhVNt"
      }
    },
    {
      "cell_type": "markdown",
      "metadata": {
        "id": "u79VBT_aGlUG"
      },
      "source": [
        "We want to use the LSTM layer to classify the MNIST dataset.\n",
        "\n",
        "The dataset is of shape (60000, 28, 28). \n",
        "\n",
        "Each sample is an image of shape (28, 28).\n",
        "\n",
        "We can look at the image as a sequence of length T = 28, where each element is of dimension D = 28"
      ]
    },
    {
      "cell_type": "markdown",
      "metadata": {
        "id": "y8mttvycUV6K"
      },
      "source": [
        "## 2.1 Loading the MNIST dataset"
      ]
    },
    {
      "cell_type": "markdown",
      "source": [
        "---\n",
        "<font color=green>Q5:</font>\n",
        "<br><font color='green'>\n",
        "Load the MNIST dataset using `tf.keras.datasets.mnist.load_data`\n",
        "</font>\n",
        "\n",
        "---"
      ],
      "metadata": {
        "id": "fqxR0xfgfytJ"
      }
    },
    {
      "cell_type": "code",
      "metadata": {
        "id": "grD3GopZc8Zb",
        "colab": {
          "base_uri": "https://localhost:8080/"
        },
        "outputId": "2594516d-9ade-4515-cd98-fdbc6ecf2660"
      },
      "source": [
        "(X_train, y_train), (X_test, y_test) = tf.keras.datasets.mnist.load_data()"
      ],
      "execution_count": null,
      "outputs": [
        {
          "output_type": "stream",
          "name": "stdout",
          "text": [
            "Downloading data from https://storage.googleapis.com/tensorflow/tf-keras-datasets/mnist.npz\n",
            "11493376/11490434 [==============================] - 0s 0us/step\n",
            "11501568/11490434 [==============================] - 0s 0us/step\n"
          ]
        }
      ]
    },
    {
      "cell_type": "markdown",
      "source": [
        "---\n",
        "<font color=green>Q6:</font>\n",
        "<br><font color='green'>\n",
        "Plot the shape of the data\n",
        "</font>\n",
        "\n",
        "---"
      ],
      "metadata": {
        "id": "ARNK6uSFfzVP"
      }
    },
    {
      "cell_type": "code",
      "metadata": {
        "id": "EOXsnm0udz00",
        "colab": {
          "base_uri": "https://localhost:8080/"
        },
        "outputId": "0493a7e9-bd59-4010-e900-32c54584d4ec"
      },
      "source": [
        ""
      ],
      "execution_count": null,
      "outputs": [
        {
          "output_type": "execute_result",
          "data": {
            "text/plain": [
              "(60000, 28, 28)"
            ]
          },
          "metadata": {},
          "execution_count": 11
        }
      ]
    },
    {
      "cell_type": "markdown",
      "source": [
        "---\n",
        "<font color=green>Q7:</font>\n",
        "<br><font color='green'>\n",
        "Scale the feature train and test data by dividing each pixel element by 255\n",
        "</font>\n",
        "\n",
        "---"
      ],
      "metadata": {
        "id": "s0I9WQWdf04M"
      }
    },
    {
      "cell_type": "code",
      "metadata": {
        "id": "Sg74fdAr1ApF"
      },
      "source": [
        ""
      ],
      "execution_count": null,
      "outputs": []
    },
    {
      "cell_type": "markdown",
      "source": [
        "---\n",
        "<font color=green>Q8:</font>\n",
        "<br><font color='green'>\n",
        "The targets are categories in $\\{0, \\dots, 9\\}$. Create the tensor target of shape (N, 10) by one hot encoding the targets using `to_categorical` from `tensorflow.keras.utils`\n",
        "</font>\n",
        "\n",
        "---"
      ],
      "metadata": {
        "id": "5lik-Dr0f1Vy"
      }
    },
    {
      "cell_type": "code",
      "metadata": {
        "id": "RfDKDAe41zwx"
      },
      "source": [
        ""
      ],
      "execution_count": null,
      "outputs": []
    },
    {
      "cell_type": "code",
      "metadata": {
        "id": "P0MAZMAC2Ewu",
        "colab": {
          "base_uri": "https://localhost:8080/"
        },
        "outputId": "8cd9341c-cc09-4a68-ab7b-3bf06674effb"
      },
      "source": [
        ""
      ],
      "execution_count": null,
      "outputs": [
        {
          "output_type": "execute_result",
          "data": {
            "text/plain": [
              "(60000, 10)"
            ]
          },
          "metadata": {},
          "execution_count": 14
        }
      ]
    },
    {
      "cell_type": "markdown",
      "source": [
        "---\n",
        "<font color=green>Q9:</font>\n",
        "<br><font color='green'>\n",
        "Create the following model and train it using gradient descent\n",
        "</font>\n",
        "\n",
        "---"
      ],
      "metadata": {
        "id": "hkrZ4josf2Ap"
      }
    },
    {
      "cell_type": "markdown",
      "source": [
        "<center><img width=“500\" src = \"https://drive.google.com/uc?export=view&id=1zCyhgITfxptmBzUDQ7-TPKsKugVyjtat\"></center>"
      ],
      "metadata": {
        "id": "unZ3w7JLhZME"
      }
    },
    {
      "cell_type": "code",
      "metadata": {
        "id": "6g2aLmH-1iUO"
      },
      "source": [
        "# Set hyperparameters\n",
        "T = X_train.shape[1]\n",
        "D = X_train.shape[2]\n",
        "d = 32\n",
        "M = 64\n",
        "N_epochs = 10"
      ],
      "execution_count": null,
      "outputs": []
    },
    {
      "cell_type": "code",
      "metadata": {
        "id": "_x_oHj60k7Ww"
      },
      "source": [
        ""
      ],
      "execution_count": null,
      "outputs": []
    },
    {
      "cell_type": "code",
      "metadata": {
        "id": "WHxemeCSk7kb",
        "colab": {
          "base_uri": "https://localhost:8080/"
        },
        "outputId": "b4716205-3b48-433d-d909-89d08ab9c5fd"
      },
      "source": [
        ""
      ],
      "execution_count": null,
      "outputs": [
        {
          "output_type": "stream",
          "name": "stdout",
          "text": [
            "Model: \"model\"\n",
            "_________________________________________________________________\n",
            " Layer (type)                Output Shape              Param #   \n",
            "=================================================================\n",
            " input_1 (InputLayer)        [(None, 28, 28)]          0         \n",
            "                                                                 \n",
            " lstm (LSTM)                 (None, 32)                7808      \n",
            "                                                                 \n",
            " dense (Dense)               (None, 10)                330       \n",
            "                                                                 \n",
            "=================================================================\n",
            "Total params: 8,138\n",
            "Trainable params: 8,138\n",
            "Non-trainable params: 0\n",
            "_________________________________________________________________\n",
            "Training model...\n",
            "Epoch 1/10\n",
            "657/657 [==============================] - 15s 19ms/step - loss: 0.9491 - accuracy: 0.6991 - val_loss: 0.4478 - val_accuracy: 0.8683\n",
            "Epoch 2/10\n",
            "657/657 [==============================] - 11s 17ms/step - loss: 0.3452 - accuracy: 0.8985 - val_loss: 0.2887 - val_accuracy: 0.9130\n",
            "Epoch 3/10\n",
            "657/657 [==============================] - 11s 17ms/step - loss: 0.2421 - accuracy: 0.9301 - val_loss: 0.2180 - val_accuracy: 0.9378\n",
            "Epoch 4/10\n",
            "657/657 [==============================] - 12s 18ms/step - loss: 0.1927 - accuracy: 0.9442 - val_loss: 0.1814 - val_accuracy: 0.9479\n",
            "Epoch 5/10\n",
            "657/657 [==============================] - 12s 18ms/step - loss: 0.1608 - accuracy: 0.9533 - val_loss: 0.1530 - val_accuracy: 0.9559\n",
            "Epoch 6/10\n",
            "657/657 [==============================] - 11s 17ms/step - loss: 0.1397 - accuracy: 0.9585 - val_loss: 0.1467 - val_accuracy: 0.9579\n",
            "Epoch 7/10\n",
            "657/657 [==============================] - 11s 17ms/step - loss: 0.1251 - accuracy: 0.9628 - val_loss: 0.1433 - val_accuracy: 0.9575\n",
            "Epoch 8/10\n",
            "657/657 [==============================] - 11s 16ms/step - loss: 0.1130 - accuracy: 0.9662 - val_loss: 0.1301 - val_accuracy: 0.9638\n",
            "Epoch 9/10\n",
            "657/657 [==============================] - 11s 16ms/step - loss: 0.1021 - accuracy: 0.9694 - val_loss: 0.1319 - val_accuracy: 0.9612\n",
            "Epoch 10/10\n",
            "657/657 [==============================] - 11s 17ms/step - loss: 0.0932 - accuracy: 0.9720 - val_loss: 0.1138 - val_accuracy: 0.9678\n"
          ]
        }
      ]
    },
    {
      "cell_type": "markdown",
      "source": [
        "---\n",
        "<font color=green>Q10:</font>\n",
        "<br><font color='green'>\n",
        "Plot the training and the validation loss and the training and the validation accuracy\n",
        "</font>\n",
        "\n",
        "---"
      ],
      "metadata": {
        "id": "nRJ1zuASf3Li"
      }
    },
    {
      "cell_type": "code",
      "metadata": {
        "id": "HVhFRaHWk7hP",
        "colab": {
          "base_uri": "https://localhost:8080/",
          "height": 458
        },
        "outputId": "d3ad24b4-191e-4ca2-94db-0ad73ac55942"
      },
      "source": [
        ""
      ],
      "execution_count": null,
      "outputs": [
        {
          "output_type": "display_data",
          "data": {
            "text/plain": [
              "<Figure size 720x504 with 1 Axes>"
            ],
            "image/png": "[encoded data removed]"
          },
          "metadata": {}
        }
      ]
    },
    {
      "cell_type": "code",
      "metadata": {
        "id": "VWsBpMTTJUzl",
        "colab": {
          "base_uri": "https://localhost:8080/",
          "height": 458
        },
        "outputId": "9b0f7fae-b8e5-4ade-df9d-921d02bc1516"
      },
      "source": [
        ""
      ],
      "execution_count": null,
      "outputs": [
        {
          "output_type": "display_data",
          "data": {
            "text/plain": [
              "<Figure size 720x504 with 1 Axes>"
            ],
            "image/png": "[encoded data removed]"
          },
          "metadata": {}
        }
      ]
    },
    {
      "cell_type": "markdown",
      "metadata": {
        "id": "1xy8N9ZZUW44"
      },
      "source": [
        "# Wrap-up"
      ]
    },
    {
      "cell_type": "markdown",
      "metadata": {
        "id": "ApA7ycFtywuv"
      },
      "source": [
        "In this programming session, we've learned:\n",
        "\n",
        "* To code the RNN layer using numpy to understand how data is transformed.\n",
        "* To perform a classification task on data of shape (N, T, D) using the LSTMs. \n",
        "\n",
        "\n",
        "\n"
      ]
    },
    {
      "cell_type": "markdown",
      "metadata": {
        "id": "T_I-tM9dK3dY"
      },
      "source": [
        "### Contact\n",
        "\n",
        "If you have any question regarding this notebook, do not hesitate to contact: h.madmoun@imperial.ac.uk\n",
        "\n"
      ]
    },
    {
      "cell_type": "code",
      "metadata": {
        "id": "-MYL3m4hKOI_"
      },
      "source": [
        ""
      ],
      "execution_count": null,
      "outputs": []
    }
  ]
}